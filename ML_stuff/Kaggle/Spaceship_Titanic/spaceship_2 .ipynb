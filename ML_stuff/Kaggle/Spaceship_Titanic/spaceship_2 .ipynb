{
 "cells": [
  {
   "cell_type": "code",
   "execution_count": 3,
   "metadata": {},
   "outputs": [],
   "source": [
    "import pandas as pd \n",
    "import matplotlib.pyplot as plt \n",
    "import numpy as np \n",
    "import seaborn as sns "
   ]
  },
  {
   "cell_type": "code",
   "execution_count": 4,
   "metadata": {},
   "outputs": [],
   "source": [
    "df_train = pd.read_csv('data/train.csv')\n",
    "df_test = pd.read_csv(\"data/test.csv\")"
   ]
  },
  {
   "cell_type": "code",
   "execution_count": 5,
   "metadata": {},
   "outputs": [
    {
     "name": "stdout",
     "output_type": "stream",
     "text": [
      "<class 'pandas.core.frame.DataFrame'>\n",
      "RangeIndex: 8693 entries, 0 to 8692\n",
      "Data columns (total 14 columns):\n",
      " #   Column        Non-Null Count  Dtype  \n",
      "---  ------        --------------  -----  \n",
      " 0   PassengerId   8693 non-null   object \n",
      " 1   HomePlanet    8492 non-null   object \n",
      " 2   CryoSleep     8476 non-null   object \n",
      " 3   Cabin         8494 non-null   object \n",
      " 4   Destination   8511 non-null   object \n",
      " 5   Age           8514 non-null   float64\n",
      " 6   VIP           8490 non-null   object \n",
      " 7   RoomService   8512 non-null   float64\n",
      " 8   FoodCourt     8510 non-null   float64\n",
      " 9   ShoppingMall  8485 non-null   float64\n",
      " 10  Spa           8510 non-null   float64\n",
      " 11  VRDeck        8505 non-null   float64\n",
      " 12  Name          8493 non-null   object \n",
      " 13  Transported   8693 non-null   bool   \n",
      "dtypes: bool(1), float64(6), object(7)\n",
      "memory usage: 891.5+ KB\n"
     ]
    }
   ],
   "source": [
    "df_train.info()"
   ]
  },
  {
   "cell_type": "code",
   "execution_count": 6,
   "metadata": {},
   "outputs": [
    {
     "data": {
      "text/html": [
       "<div>\n",
       "<style scoped>\n",
       "    .dataframe tbody tr th:only-of-type {\n",
       "        vertical-align: middle;\n",
       "    }\n",
       "\n",
       "    .dataframe tbody tr th {\n",
       "        vertical-align: top;\n",
       "    }\n",
       "\n",
       "    .dataframe thead th {\n",
       "        text-align: right;\n",
       "    }\n",
       "</style>\n",
       "<table border=\"1\" class=\"dataframe\">\n",
       "  <thead>\n",
       "    <tr style=\"text-align: right;\">\n",
       "      <th></th>\n",
       "      <th>Age</th>\n",
       "      <th>RoomService</th>\n",
       "      <th>FoodCourt</th>\n",
       "      <th>ShoppingMall</th>\n",
       "      <th>Spa</th>\n",
       "      <th>VRDeck</th>\n",
       "    </tr>\n",
       "  </thead>\n",
       "  <tbody>\n",
       "    <tr>\n",
       "      <th>count</th>\n",
       "      <td>8514.000000</td>\n",
       "      <td>8512.000000</td>\n",
       "      <td>8510.000000</td>\n",
       "      <td>8485.000000</td>\n",
       "      <td>8510.000000</td>\n",
       "      <td>8505.000000</td>\n",
       "    </tr>\n",
       "    <tr>\n",
       "      <th>mean</th>\n",
       "      <td>28.827930</td>\n",
       "      <td>224.687617</td>\n",
       "      <td>458.077203</td>\n",
       "      <td>173.729169</td>\n",
       "      <td>311.138778</td>\n",
       "      <td>304.854791</td>\n",
       "    </tr>\n",
       "    <tr>\n",
       "      <th>std</th>\n",
       "      <td>14.489021</td>\n",
       "      <td>666.717663</td>\n",
       "      <td>1611.489240</td>\n",
       "      <td>604.696458</td>\n",
       "      <td>1136.705535</td>\n",
       "      <td>1145.717189</td>\n",
       "    </tr>\n",
       "    <tr>\n",
       "      <th>min</th>\n",
       "      <td>0.000000</td>\n",
       "      <td>0.000000</td>\n",
       "      <td>0.000000</td>\n",
       "      <td>0.000000</td>\n",
       "      <td>0.000000</td>\n",
       "      <td>0.000000</td>\n",
       "    </tr>\n",
       "    <tr>\n",
       "      <th>25%</th>\n",
       "      <td>19.000000</td>\n",
       "      <td>0.000000</td>\n",
       "      <td>0.000000</td>\n",
       "      <td>0.000000</td>\n",
       "      <td>0.000000</td>\n",
       "      <td>0.000000</td>\n",
       "    </tr>\n",
       "    <tr>\n",
       "      <th>50%</th>\n",
       "      <td>27.000000</td>\n",
       "      <td>0.000000</td>\n",
       "      <td>0.000000</td>\n",
       "      <td>0.000000</td>\n",
       "      <td>0.000000</td>\n",
       "      <td>0.000000</td>\n",
       "    </tr>\n",
       "    <tr>\n",
       "      <th>75%</th>\n",
       "      <td>38.000000</td>\n",
       "      <td>47.000000</td>\n",
       "      <td>76.000000</td>\n",
       "      <td>27.000000</td>\n",
       "      <td>59.000000</td>\n",
       "      <td>46.000000</td>\n",
       "    </tr>\n",
       "    <tr>\n",
       "      <th>max</th>\n",
       "      <td>79.000000</td>\n",
       "      <td>14327.000000</td>\n",
       "      <td>29813.000000</td>\n",
       "      <td>23492.000000</td>\n",
       "      <td>22408.000000</td>\n",
       "      <td>24133.000000</td>\n",
       "    </tr>\n",
       "  </tbody>\n",
       "</table>\n",
       "</div>"
      ],
      "text/plain": [
       "               Age   RoomService  ...           Spa        VRDeck\n",
       "count  8514.000000   8512.000000  ...   8510.000000   8505.000000\n",
       "mean     28.827930    224.687617  ...    311.138778    304.854791\n",
       "std      14.489021    666.717663  ...   1136.705535   1145.717189\n",
       "min       0.000000      0.000000  ...      0.000000      0.000000\n",
       "25%      19.000000      0.000000  ...      0.000000      0.000000\n",
       "50%      27.000000      0.000000  ...      0.000000      0.000000\n",
       "75%      38.000000     47.000000  ...     59.000000     46.000000\n",
       "max      79.000000  14327.000000  ...  22408.000000  24133.000000\n",
       "\n",
       "[8 rows x 6 columns]"
      ]
     },
     "execution_count": 6,
     "metadata": {},
     "output_type": "execute_result"
    }
   ],
   "source": [
    "df_train.describe()"
   ]
  },
  {
   "cell_type": "code",
   "execution_count": 7,
   "metadata": {},
   "outputs": [
    {
     "data": {
      "text/html": [
       "<div>\n",
       "<style scoped>\n",
       "    .dataframe tbody tr th:only-of-type {\n",
       "        vertical-align: middle;\n",
       "    }\n",
       "\n",
       "    .dataframe tbody tr th {\n",
       "        vertical-align: top;\n",
       "    }\n",
       "\n",
       "    .dataframe thead th {\n",
       "        text-align: right;\n",
       "    }\n",
       "</style>\n",
       "<table border=\"1\" class=\"dataframe\">\n",
       "  <thead>\n",
       "    <tr style=\"text-align: right;\">\n",
       "      <th></th>\n",
       "      <th>PassengerId</th>\n",
       "      <th>HomePlanet</th>\n",
       "      <th>CryoSleep</th>\n",
       "      <th>Cabin</th>\n",
       "      <th>Destination</th>\n",
       "      <th>Age</th>\n",
       "      <th>VIP</th>\n",
       "      <th>RoomService</th>\n",
       "      <th>FoodCourt</th>\n",
       "      <th>ShoppingMall</th>\n",
       "      <th>Spa</th>\n",
       "      <th>VRDeck</th>\n",
       "      <th>Name</th>\n",
       "      <th>Transported</th>\n",
       "    </tr>\n",
       "  </thead>\n",
       "  <tbody>\n",
       "    <tr>\n",
       "      <th>0</th>\n",
       "      <td>0001_01</td>\n",
       "      <td>Europa</td>\n",
       "      <td>False</td>\n",
       "      <td>B/0/P</td>\n",
       "      <td>TRAPPIST-1e</td>\n",
       "      <td>39.0</td>\n",
       "      <td>False</td>\n",
       "      <td>0.0</td>\n",
       "      <td>0.0</td>\n",
       "      <td>0.0</td>\n",
       "      <td>0.0</td>\n",
       "      <td>0.0</td>\n",
       "      <td>Maham Ofracculy</td>\n",
       "      <td>False</td>\n",
       "    </tr>\n",
       "    <tr>\n",
       "      <th>1</th>\n",
       "      <td>0002_01</td>\n",
       "      <td>Earth</td>\n",
       "      <td>False</td>\n",
       "      <td>F/0/S</td>\n",
       "      <td>TRAPPIST-1e</td>\n",
       "      <td>24.0</td>\n",
       "      <td>False</td>\n",
       "      <td>109.0</td>\n",
       "      <td>9.0</td>\n",
       "      <td>25.0</td>\n",
       "      <td>549.0</td>\n",
       "      <td>44.0</td>\n",
       "      <td>Juanna Vines</td>\n",
       "      <td>True</td>\n",
       "    </tr>\n",
       "    <tr>\n",
       "      <th>2</th>\n",
       "      <td>0003_01</td>\n",
       "      <td>Europa</td>\n",
       "      <td>False</td>\n",
       "      <td>A/0/S</td>\n",
       "      <td>TRAPPIST-1e</td>\n",
       "      <td>58.0</td>\n",
       "      <td>True</td>\n",
       "      <td>43.0</td>\n",
       "      <td>3576.0</td>\n",
       "      <td>0.0</td>\n",
       "      <td>6715.0</td>\n",
       "      <td>49.0</td>\n",
       "      <td>Altark Susent</td>\n",
       "      <td>False</td>\n",
       "    </tr>\n",
       "    <tr>\n",
       "      <th>3</th>\n",
       "      <td>0003_02</td>\n",
       "      <td>Europa</td>\n",
       "      <td>False</td>\n",
       "      <td>A/0/S</td>\n",
       "      <td>TRAPPIST-1e</td>\n",
       "      <td>33.0</td>\n",
       "      <td>False</td>\n",
       "      <td>0.0</td>\n",
       "      <td>1283.0</td>\n",
       "      <td>371.0</td>\n",
       "      <td>3329.0</td>\n",
       "      <td>193.0</td>\n",
       "      <td>Solam Susent</td>\n",
       "      <td>False</td>\n",
       "    </tr>\n",
       "    <tr>\n",
       "      <th>4</th>\n",
       "      <td>0004_01</td>\n",
       "      <td>Earth</td>\n",
       "      <td>False</td>\n",
       "      <td>F/1/S</td>\n",
       "      <td>TRAPPIST-1e</td>\n",
       "      <td>16.0</td>\n",
       "      <td>False</td>\n",
       "      <td>303.0</td>\n",
       "      <td>70.0</td>\n",
       "      <td>151.0</td>\n",
       "      <td>565.0</td>\n",
       "      <td>2.0</td>\n",
       "      <td>Willy Santantines</td>\n",
       "      <td>True</td>\n",
       "    </tr>\n",
       "  </tbody>\n",
       "</table>\n",
       "</div>"
      ],
      "text/plain": [
       "  PassengerId HomePlanet CryoSleep  ... VRDeck               Name  Transported\n",
       "0     0001_01     Europa     False  ...    0.0    Maham Ofracculy        False\n",
       "1     0002_01      Earth     False  ...   44.0       Juanna Vines         True\n",
       "2     0003_01     Europa     False  ...   49.0      Altark Susent        False\n",
       "3     0003_02     Europa     False  ...  193.0       Solam Susent        False\n",
       "4     0004_01      Earth     False  ...    2.0  Willy Santantines         True\n",
       "\n",
       "[5 rows x 14 columns]"
      ]
     },
     "execution_count": 7,
     "metadata": {},
     "output_type": "execute_result"
    }
   ],
   "source": [
    "df_train.head()"
   ]
  },
  {
   "cell_type": "code",
   "execution_count": 8,
   "metadata": {},
   "outputs": [
    {
     "data": {
      "text/plain": [
       "PassengerId     8693\n",
       "HomePlanet         3\n",
       "CryoSleep          2\n",
       "Cabin           6560\n",
       "Destination        3\n",
       "Age               80\n",
       "VIP                2\n",
       "RoomService     1273\n",
       "FoodCourt       1507\n",
       "ShoppingMall    1115\n",
       "Spa             1327\n",
       "VRDeck          1306\n",
       "Name            8473\n",
       "Transported        2\n",
       "dtype: int64"
      ]
     },
     "execution_count": 8,
     "metadata": {},
     "output_type": "execute_result"
    }
   ],
   "source": [
    "df_train.nunique()"
   ]
  },
  {
   "cell_type": "code",
   "execution_count": 9,
   "metadata": {},
   "outputs": [
    {
     "data": {
      "text/plain": [
       "0       False\n",
       "1       False\n",
       "2       False\n",
       "3       False\n",
       "4       False\n",
       "        ...  \n",
       "8688    False\n",
       "8689    False\n",
       "8690    False\n",
       "8691    False\n",
       "8692    False\n",
       "Length: 8693, dtype: bool"
      ]
     },
     "execution_count": 9,
     "metadata": {},
     "output_type": "execute_result"
    }
   ],
   "source": [
    "df_train.duplicated()"
   ]
  },
  {
   "attachments": {},
   "cell_type": "markdown",
   "metadata": {},
   "source": [
    "## Missing values \n",
    "our data seems to have some missing values , now we should analyze the missing values and input appropriate values"
   ]
  },
  {
   "cell_type": "code",
   "execution_count": 10,
   "metadata": {},
   "outputs": [
    {
     "data": {
      "text/plain": [
       "PassengerId       0\n",
       "HomePlanet      201\n",
       "CryoSleep       217\n",
       "Cabin           199\n",
       "Destination     182\n",
       "Age             179\n",
       "VIP             203\n",
       "RoomService     181\n",
       "FoodCourt       183\n",
       "ShoppingMall    208\n",
       "Spa             183\n",
       "VRDeck          188\n",
       "Name            200\n",
       "Transported       0\n",
       "dtype: int64"
      ]
     },
     "execution_count": 10,
     "metadata": {},
     "output_type": "execute_result"
    }
   ],
   "source": [
    "df_train.isna().sum()"
   ]
  },
  {
   "cell_type": "code",
   "execution_count": 11,
   "metadata": {},
   "outputs": [],
   "source": [
    "def percentage(df):\n",
    "\n",
    "    percentage = (df.isna().sum() / len(df)) * 100\n",
    "    return percentage\n"
   ]
  },
  {
   "cell_type": "code",
   "execution_count": 12,
   "metadata": {},
   "outputs": [
    {
     "name": "stdout",
     "output_type": "stream",
     "text": [
      "PassengerId     0.000000\n",
      "HomePlanet      2.312205\n",
      "CryoSleep       2.496261\n",
      "Cabin           2.289198\n",
      "Destination     2.093639\n",
      "Age             2.059128\n",
      "VIP             2.335212\n",
      "RoomService     2.082135\n",
      "FoodCourt       2.105142\n",
      "ShoppingMall    2.392730\n",
      "Spa             2.105142\n",
      "VRDeck          2.162660\n",
      "Name            2.300702\n",
      "Transported     0.000000\n",
      "dtype: float64\n"
     ]
    }
   ],
   "source": [
    "print(percentage(df_train))"
   ]
  },
  {
   "attachments": {},
   "cell_type": "markdown",
   "metadata": {},
   "source": [
    "we can use this for plotting the missing values percetage wise , from the above observation it seems that Cryosleep seems to have the highest number of missing values . Now i would like to fill the categorial columns with the mode values and the numerical columns with median as median is unaffected against outliers\n"
   ]
  },
  {
   "cell_type": "code",
   "execution_count": 13,
   "metadata": {},
   "outputs": [],
   "source": [
    "def fillMedian(df):\n",
    "# Creating a method to iterate overcolumns and if the dtype is not object then we would we will the na values with median of that column\n",
    "    for i in df.columns :\n",
    "        if df[i].dtype != 'object' :\n",
    "            df[i].fillna(df[i].median(),inplace = True)\n",
    "\n",
    "    return df\n"
   ]
  },
  {
   "cell_type": "code",
   "execution_count": 14,
   "metadata": {},
   "outputs": [],
   "source": [
    "def fillMode(df):\n",
    "    \n",
    "    for i in df.columns:\n",
    "        if df[i].dtype == 'object' :\n",
    "            df[i].fillna(df[i].mode()[0],inplace = True)\n",
    "    \n",
    "    return df"
   ]
  },
  {
   "cell_type": "code",
   "execution_count": 15,
   "metadata": {},
   "outputs": [
    {
     "name": "stdout",
     "output_type": "stream",
     "text": [
      "PassengerId     0\n",
      "HomePlanet      0\n",
      "CryoSleep       0\n",
      "Cabin           0\n",
      "Destination     0\n",
      "Age             0\n",
      "VIP             0\n",
      "RoomService     0\n",
      "FoodCourt       0\n",
      "ShoppingMall    0\n",
      "Spa             0\n",
      "VRDeck          0\n",
      "Name            0\n",
      "Transported     0\n",
      "dtype: int64\n"
     ]
    }
   ],
   "source": [
    "df_train = fillMedian(df_train)\n",
    "df_train = fillMode(df_train)\n",
    "print(df_train.isna().sum())"
   ]
  },
  {
   "cell_type": "code",
   "execution_count": 16,
   "metadata": {},
   "outputs": [
    {
     "data": {
      "text/html": [
       "<div>\n",
       "<style scoped>\n",
       "    .dataframe tbody tr th:only-of-type {\n",
       "        vertical-align: middle;\n",
       "    }\n",
       "\n",
       "    .dataframe tbody tr th {\n",
       "        vertical-align: top;\n",
       "    }\n",
       "\n",
       "    .dataframe thead th {\n",
       "        text-align: right;\n",
       "    }\n",
       "</style>\n",
       "<table border=\"1\" class=\"dataframe\">\n",
       "  <thead>\n",
       "    <tr style=\"text-align: right;\">\n",
       "      <th></th>\n",
       "      <th>PassengerId</th>\n",
       "      <th>HomePlanet</th>\n",
       "      <th>CryoSleep</th>\n",
       "      <th>Cabin</th>\n",
       "      <th>Destination</th>\n",
       "      <th>Age</th>\n",
       "      <th>VIP</th>\n",
       "      <th>RoomService</th>\n",
       "      <th>FoodCourt</th>\n",
       "      <th>ShoppingMall</th>\n",
       "      <th>Spa</th>\n",
       "      <th>VRDeck</th>\n",
       "      <th>Name</th>\n",
       "      <th>Transported</th>\n",
       "    </tr>\n",
       "  </thead>\n",
       "  <tbody>\n",
       "    <tr>\n",
       "      <th>0</th>\n",
       "      <td>0001_01</td>\n",
       "      <td>Europa</td>\n",
       "      <td>False</td>\n",
       "      <td>B/0/P</td>\n",
       "      <td>TRAPPIST-1e</td>\n",
       "      <td>39.0</td>\n",
       "      <td>False</td>\n",
       "      <td>0.0</td>\n",
       "      <td>0.0</td>\n",
       "      <td>0.0</td>\n",
       "      <td>0.0</td>\n",
       "      <td>0.0</td>\n",
       "      <td>Maham Ofracculy</td>\n",
       "      <td>False</td>\n",
       "    </tr>\n",
       "    <tr>\n",
       "      <th>1</th>\n",
       "      <td>0002_01</td>\n",
       "      <td>Earth</td>\n",
       "      <td>False</td>\n",
       "      <td>F/0/S</td>\n",
       "      <td>TRAPPIST-1e</td>\n",
       "      <td>24.0</td>\n",
       "      <td>False</td>\n",
       "      <td>109.0</td>\n",
       "      <td>9.0</td>\n",
       "      <td>25.0</td>\n",
       "      <td>549.0</td>\n",
       "      <td>44.0</td>\n",
       "      <td>Juanna Vines</td>\n",
       "      <td>True</td>\n",
       "    </tr>\n",
       "    <tr>\n",
       "      <th>2</th>\n",
       "      <td>0003_01</td>\n",
       "      <td>Europa</td>\n",
       "      <td>False</td>\n",
       "      <td>A/0/S</td>\n",
       "      <td>TRAPPIST-1e</td>\n",
       "      <td>58.0</td>\n",
       "      <td>True</td>\n",
       "      <td>43.0</td>\n",
       "      <td>3576.0</td>\n",
       "      <td>0.0</td>\n",
       "      <td>6715.0</td>\n",
       "      <td>49.0</td>\n",
       "      <td>Altark Susent</td>\n",
       "      <td>False</td>\n",
       "    </tr>\n",
       "    <tr>\n",
       "      <th>3</th>\n",
       "      <td>0003_02</td>\n",
       "      <td>Europa</td>\n",
       "      <td>False</td>\n",
       "      <td>A/0/S</td>\n",
       "      <td>TRAPPIST-1e</td>\n",
       "      <td>33.0</td>\n",
       "      <td>False</td>\n",
       "      <td>0.0</td>\n",
       "      <td>1283.0</td>\n",
       "      <td>371.0</td>\n",
       "      <td>3329.0</td>\n",
       "      <td>193.0</td>\n",
       "      <td>Solam Susent</td>\n",
       "      <td>False</td>\n",
       "    </tr>\n",
       "    <tr>\n",
       "      <th>4</th>\n",
       "      <td>0004_01</td>\n",
       "      <td>Earth</td>\n",
       "      <td>False</td>\n",
       "      <td>F/1/S</td>\n",
       "      <td>TRAPPIST-1e</td>\n",
       "      <td>16.0</td>\n",
       "      <td>False</td>\n",
       "      <td>303.0</td>\n",
       "      <td>70.0</td>\n",
       "      <td>151.0</td>\n",
       "      <td>565.0</td>\n",
       "      <td>2.0</td>\n",
       "      <td>Willy Santantines</td>\n",
       "      <td>True</td>\n",
       "    </tr>\n",
       "  </tbody>\n",
       "</table>\n",
       "</div>"
      ],
      "text/plain": [
       "  PassengerId HomePlanet  CryoSleep  ... VRDeck               Name  Transported\n",
       "0     0001_01     Europa      False  ...    0.0    Maham Ofracculy        False\n",
       "1     0002_01      Earth      False  ...   44.0       Juanna Vines         True\n",
       "2     0003_01     Europa      False  ...   49.0      Altark Susent        False\n",
       "3     0003_02     Europa      False  ...  193.0       Solam Susent        False\n",
       "4     0004_01      Earth      False  ...    2.0  Willy Santantines         True\n",
       "\n",
       "[5 rows x 14 columns]"
      ]
     },
     "execution_count": 16,
     "metadata": {},
     "output_type": "execute_result"
    }
   ],
   "source": [
    "df_train.head()"
   ]
  },
  {
   "attachments": {},
   "cell_type": "markdown",
   "metadata": {},
   "source": [
    "Looks like we filled the missing values with the median and mode for numerical columns and catergorial columns respectively ."
   ]
  },
  {
   "attachments": {},
   "cell_type": "markdown",
   "metadata": {},
   "source": [
    "## Outlier detection and removal \n",
    "now we should look at the distribution of columns and "
   ]
  },
  {
   "cell_type": "code",
   "execution_count": 17,
   "metadata": {},
   "outputs": [
    {
     "name": "stdout",
     "output_type": "stream",
     "text": [
      "['Age', 'RoomService', 'FoodCourt', 'ShoppingMall', 'Spa', 'VRDeck']\n"
     ]
    }
   ],
   "source": [
    "num = []\n",
    "\n",
    "for i in df_train.columns:\n",
    "    if df_train[i].dtype != 'object' and i != 'Transported' and  df_train[i].dtype != 'bool':\n",
    "        num.append(i)\n",
    "\n",
    "print(num)"
   ]
  },
  {
   "cell_type": "code",
   "execution_count": 18,
   "metadata": {},
   "outputs": [
    {
     "name": "stdout",
     "output_type": "stream",
     "text": [
      "  PassengerId HomePlanet  CryoSleep  ... VRDeck               Name  Transported\n",
      "0     0001_01     Europa      False  ...    0.0    Maham Ofracculy        False\n",
      "1     0002_01      Earth      False  ...   44.0       Juanna Vines         True\n",
      "2     0003_01     Europa      False  ...   49.0      Altark Susent        False\n",
      "3     0003_02     Europa      False  ...  193.0       Solam Susent        False\n",
      "4     0004_01      Earth      False  ...    2.0  Willy Santantines         True\n",
      "\n",
      "[5 rows x 14 columns]\n"
     ]
    }
   ],
   "source": [
    "print(df_train.head())"
   ]
  },
  {
   "cell_type": "code",
   "execution_count": 19,
   "metadata": {},
   "outputs": [
    {
     "name": "stdout",
     "output_type": "stream",
     "text": [
      "The skewness of the age column is 0.43110235678108527\n"
     ]
    },
    {
     "data": {
      "image/png": "[encoded data removed]",
      "text/plain": [
       "<Figure size 640x480 with 1 Axes>"
      ]
     },
     "metadata": {},
     "output_type": "display_data"
    }
   ],
   "source": [
    "\n",
    "sns.histplot(df_train[num[0]] , x = df_train[num[0]] , kde = True )\n",
    "print(\"The skewness of the age column is {}\".format(df_train[num[0]].skew()))"
   ]
  },
  {
   "cell_type": "code",
   "execution_count": 20,
   "metadata": {},
   "outputs": [
    {
     "name": "stdout",
     "output_type": "stream",
     "text": [
      "['Age', 'RoomService', 'FoodCourt', 'ShoppingMall', 'Spa', 'VRDeck']\n"
     ]
    }
   ],
   "source": [
    "print(num)"
   ]
  },
  {
   "attachments": {},
   "cell_type": "markdown",
   "metadata": {},
   "source": [
    "The age column is not normally distributed , to remove the outliers we have to use the IQR method"
   ]
  },
  {
   "cell_type": "code",
   "execution_count": 21,
   "metadata": {},
   "outputs": [],
   "source": [
    "def IQR(df,i):\n",
    "\n",
    "    IQR = df[i].quantile(0.75) - df[i].quantile(0.25)\n",
    "    IQR_max = df[i].quantile(0.75) + 1.5*IQR\n",
    "    IQR_min = df[i].quantile(0.25) - 1.5*IQR\n",
    "\n",
    "    return IQR_max , IQR_min"
   ]
  },
  {
   "cell_type": "code",
   "execution_count": 22,
   "metadata": {},
   "outputs": [
    {
     "name": "stdout",
     "output_type": "stream",
     "text": [
      "The column Age had 162 outliers\n",
      "The column RoomService had 1906 outliers\n",
      "The column FoodCourt had 1916 outliers\n",
      "The column ShoppingMall had 1879 outliers\n",
      "The column Spa had 1833 outliers\n",
      "The column VRDeck had 1849 outliers\n"
     ]
    }
   ],
   "source": [
    "for i in num:\n",
    "\n",
    "    IQR_max , IQR_min = IQR(df_train,i)\n",
    "    outliers = df_train[(df_train[i] < IQR_min) | (df_train[i] > IQR_max) ]\n",
    "    \n",
    "    print(\"The column {} had {} outliers\".format(i,len(outliers)))"
   ]
  },
  {
   "cell_type": "code",
   "execution_count": 23,
   "metadata": {},
   "outputs": [
    {
     "name": "stdout",
     "output_type": "stream",
     "text": [
      "62.5\n"
     ]
    }
   ],
   "source": [
    "IQR = df_train[num[0]].quantile(0.75) - df_train[num[0]].quantile(0.25)\n",
    "IQR_max = df_train[num[0]].quantile(0.75) + 1.5*IQR\n",
    "print(IQR_max)"
   ]
  },
  {
   "cell_type": "code",
   "execution_count": 24,
   "metadata": {},
   "outputs": [
    {
     "name": "stdout",
     "output_type": "stream",
     "text": [
      "  PassengerId HomePlanet  CryoSleep  ... VRDeck               Name  Transported\n",
      "0     0001_01     Europa      False  ...    0.0    Maham Ofracculy        False\n",
      "1     0002_01      Earth      False  ...   44.0       Juanna Vines         True\n",
      "2     0003_01     Europa      False  ...   49.0      Altark Susent        False\n",
      "3     0003_02     Europa      False  ...  193.0       Solam Susent        False\n",
      "4     0004_01      Earth      False  ...    2.0  Willy Santantines         True\n",
      "\n",
      "[5 rows x 14 columns]\n"
     ]
    }
   ],
   "source": [
    "print(df_train.head())"
   ]
  },
  {
   "cell_type": "code",
   "execution_count": 25,
   "metadata": {},
   "outputs": [],
   "source": [
    "df_train = df_train[df_train[num[0]] < IQR_max]"
   ]
  },
  {
   "cell_type": "code",
   "execution_count": 26,
   "metadata": {},
   "outputs": [
    {
     "data": {
      "text/plain": [
       "{'whiskers': [<matplotlib.lines.Line2D at 0x7fcab580bfd0>,\n",
       "  <matplotlib.lines.Line2D at 0x7fcab584c2b0>],\n",
       " 'caps': [<matplotlib.lines.Line2D at 0x7fcab584c550>,\n",
       "  <matplotlib.lines.Line2D at 0x7fcab584c7f0>],\n",
       " 'boxes': [<matplotlib.lines.Line2D at 0x7fcab580bdc0>],\n",
       " 'medians': [<matplotlib.lines.Line2D at 0x7fcab584ca90>],\n",
       " 'fliers': [<matplotlib.lines.Line2D at 0x7fcab584cd30>],\n",
       " 'means': []}"
      ]
     },
     "execution_count": 26,
     "metadata": {},
     "output_type": "execute_result"
    },
    {
     "data": {
      "image/png": "[encoded data removed]",
      "text/plain": [
       "<Figure size 640x480 with 1 Axes>"
      ]
     },
     "metadata": {},
     "output_type": "display_data"
    }
   ],
   "source": [
    "plt.boxplot(df_train[num[0]])"
   ]
  },
  {
   "attachments": {},
   "cell_type": "markdown",
   "metadata": {},
   "source": [
    "It seems like we removed the outliers for the age column now we should do it for the other numerical columns"
   ]
  },
  {
   "cell_type": "code",
   "execution_count": 27,
   "metadata": {},
   "outputs": [
    {
     "name": "stdout",
     "output_type": "stream",
     "text": [
      "The RoomService column has skewness of 6.452252515554153\n",
      "The FoodCourt column has skewness of 7.228237828716999\n",
      "The ShoppingMall column has skewness of 12.74918169236743\n",
      "The Spa column has skewness of 7.310986777324706\n",
      "The VRDeck column has skewness of 7.938878744894799\n"
     ]
    }
   ],
   "source": [
    "for i in range(1,len(num)) :\n",
    "\n",
    "    print(\"The {} column has skewness of {}\".format(num[i],df_train[num[i]].skew()))"
   ]
  },
  {
   "attachments": {},
   "cell_type": "markdown",
   "metadata": {},
   "source": [
    "All the above columns seem to be highly skewed , we can use mean standard deviation to remove the outlier so we have to use the IQR method to remove the outlier"
   ]
  },
  {
   "cell_type": "code",
   "execution_count": 28,
   "metadata": {},
   "outputs": [
    {
     "data": {
      "text/plain": [
       "{'whiskers': [<matplotlib.lines.Line2D at 0x7fcab588f430>,\n",
       "  <matplotlib.lines.Line2D at 0x7fcab588f6d0>],\n",
       " 'caps': [<matplotlib.lines.Line2D at 0x7fcab588f970>,\n",
       "  <matplotlib.lines.Line2D at 0x7fcab588fc10>],\n",
       " 'boxes': [<matplotlib.lines.Line2D at 0x7fcab7343df0>],\n",
       " 'medians': [<matplotlib.lines.Line2D at 0x7fcab588feb0>],\n",
       " 'fliers': [<matplotlib.lines.Line2D at 0x7fcab56d0190>],\n",
       " 'means': []}"
      ]
     },
     "execution_count": 28,
     "metadata": {},
     "output_type": "execute_result"
    },
    {
     "data": {
      "image/png": "[encoded data removed]",
      "text/plain": [
       "<Figure size 640x480 with 1 Axes>"
      ]
     },
     "metadata": {},
     "output_type": "display_data"
    }
   ],
   "source": [
    "plt.boxplot(df_train[num[3]])"
   ]
  },
  {
   "cell_type": "code",
   "execution_count": 29,
   "metadata": {},
   "outputs": [
    {
     "data": {
      "image/png": "[encoded data removed]",
      "text/plain": [
       "<Figure size 3000x500 with 5 Axes>"
      ]
     },
     "metadata": {},
     "output_type": "display_data"
    }
   ],
   "source": [
    "fig, ax = plt.subplots(nrows=1, ncols=len(num) - 1, figsize = (30,5))\n",
    "\n",
    "sns.histplot(data = df_train, x = num[1] , ax = ax[0] , kde = True)\n",
    "ax[0].set_xlabel(\"{}\".format(num[1]))\n",
    "ax[0].set_yscale('symlog')\n",
    "\n",
    "sns.histplot(data = df_train, x = num[2] , ax = ax[1] , kde = True)\n",
    "ax[1].set_xlabel(\"{}\".format(num[2]))\n",
    "ax[1].set_yscale('symlog')\n",
    "\n",
    "sns.histplot(data = df_train, x = num[3] , ax = ax[2] , kde = True)\n",
    "ax[2].set_xlabel(\"{}\".format(num[3]))\n",
    "ax[2].set_yscale('symlog')\n",
    "\n",
    "sns.histplot(data = df_train, x = num[4] , ax = ax[3] , kde = True)\n",
    "ax[3].set_xlabel(\"{}\".format(num[4]))\n",
    "ax[3].set_yscale('symlog')\n",
    "\n",
    "sns.histplot(data = df_train, x = num[5] , ax = ax[4] , kde = True)\n",
    "ax[4].set_xlabel(\"{}\".format(num[5]))\n",
    "ax[4].set_yscale('symlog')\n",
    "\n",
    "plt.tight_layout()\n",
    "plt.show()"
   ]
  },
  {
   "attachments": {},
   "cell_type": "markdown",
   "metadata": {},
   "source": [
    "the other numerical columns seem to have most of there values as 0 , which means huge amount of the didnt spend money during their travel we can combine all the columns  to people who spent money."
   ]
  },
  {
   "cell_type": "code",
   "execution_count": 30,
   "metadata": {},
   "outputs": [],
   "source": [
    "spent = df_train[num[1:]]\n",
    "\n",
    "Spent = spent.sum(axis = 1)\n",
    "\n",
    "total_spent = spent.sum(axis = 1)\n",
    "\n",
    "Spent = Spent.apply(lambda x : 0 if x == 0 else 1)\n",
    "\n",
    "df_train = df_train.join(pd.DataFrame(data = {'Spent' : Spent , 'Total_spent' : total_spent}))"
   ]
  },
  {
   "cell_type": "code",
   "execution_count": 31,
   "metadata": {},
   "outputs": [
    {
     "data": {
      "text/plain": [
       "PassengerId     0\n",
       "HomePlanet      0\n",
       "CryoSleep       0\n",
       "Cabin           0\n",
       "Destination     0\n",
       "Age             0\n",
       "VIP             0\n",
       "RoomService     0\n",
       "FoodCourt       0\n",
       "ShoppingMall    0\n",
       "Spa             0\n",
       "VRDeck          0\n",
       "Name            0\n",
       "Transported     0\n",
       "Spent           0\n",
       "Total_spent     0\n",
       "dtype: int64"
      ]
     },
     "execution_count": 31,
     "metadata": {},
     "output_type": "execute_result"
    }
   ],
   "source": [
    "df_train.isna().sum()"
   ]
  },
  {
   "cell_type": "code",
   "execution_count": 32,
   "metadata": {},
   "outputs": [
    {
     "data": {
      "text/plain": [
       "([<matplotlib.patches.Wedge at 0x7fcaa18b2c20>,\n",
       "  <matplotlib.patches.Wedge at 0x7fcaa18b2b30>],\n",
       " [Text(-0.01745463273394463, 1.1998730498665777, 'Transported'),\n",
       "  Text(0.01745452039372218, -1.1998730515007932, 'Not Transported')],\n",
       " [Text(-0.010181869094801031, 0.6999259457555037, '50.5%'),\n",
       "  Text(0.010181803563004606, -0.699925946708796, '49.5%')])"
      ]
     },
     "execution_count": 32,
     "metadata": {},
     "output_type": "execute_result"
    },
    {
     "data": {
      "image/png": "[encoded data removed]",
      "text/plain": [
       "<Figure size 640x480 with 1 Axes>"
      ]
     },
     "metadata": {},
     "output_type": "display_data"
    }
   ],
   "source": [
    "transported = df_train[df_train['Transported'] == 1]\n",
    "not_transported = df_train[df_train['Transported'] == 0]\n",
    "plt.pie([len(transported),len(not_transported)] , explode=[0.10,0.10] , shadow= True , labels=('Transported','Not Transported') , autopct='%1.1f%%')"
   ]
  },
  {
   "cell_type": "code",
   "execution_count": 33,
   "metadata": {},
   "outputs": [
    {
     "data": {
      "text/plain": [
       "Text(0.5, 1.0, 'Percentage of people opting for VIP')"
      ]
     },
     "execution_count": 33,
     "metadata": {},
     "output_type": "execute_result"
    },
    {
     "data": {
      "image/png": "[encoded data removed]",
      "text/plain": [
       "<Figure size 640x480 with 1 Axes>"
      ]
     },
     "metadata": {},
     "output_type": "display_data"
    }
   ],
   "source": [
    "#Looking at the VIP column\n",
    "true = df_train.VIP.value_counts().loc[True]\n",
    "false = df_train.VIP.value_counts().loc[False]\n",
    "plt.pie([true,false] , explode = [0.45,0.0] , shadow=True , labels = ['True','False'] , autopct='%1.1f%%')\n",
    "plt.title(\"Percentage of people opting for VIP\")"
   ]
  },
  {
   "cell_type": "code",
   "execution_count": 34,
   "metadata": {},
   "outputs": [
    {
     "data": {
      "image/png": "[encoded data removed]",
      "text/plain": [
       "<Figure size 640x480 with 2 Axes>"
      ]
     },
     "metadata": {},
     "output_type": "display_data"
    }
   ],
   "source": [
    "#People who got transported among VIP\n",
    "\n",
    "fig , ax = plt.subplots(ncols=2 , nrows= 1)\n",
    "\n",
    "temp = df_train[['VIP','Transported']]\n",
    "false_transported = temp.groupby(['VIP']).sum().loc[False]\n",
    "true_transported = temp.groupby(['VIP']).sum().loc[True]\n",
    "true_not_tranported = true - true_transported\n",
    "false_not_transported = false - false_transported\n",
    "\n",
    "ax[0].pie([true_not_tranported[0],true_transported[0]] , labels = ['Not Transported','Transported'] ,explode = [0.45,0.0] , shadow=True , autopct='%1.1f%%' )\n",
    "ax[0].set_label(\"VIPs\")\n",
    "\n",
    "ax[1].pie([false_not_transported[0],false_transported[0]] , labels = ['Not Transported','Transported'] ,explode = [0.45,0.0] , shadow=True , autopct='%1.1f%%' )\n",
    "ax[1].set_label(\"Non - VIPs\")"
   ]
  },
  {
   "attachments": {},
   "cell_type": "markdown",
   "metadata": {},
   "source": [
    "So , being a Non-VIP had higher odds od being transported to the correct positon"
   ]
  },
  {
   "cell_type": "code",
   "execution_count": 35,
   "metadata": {},
   "outputs": [],
   "source": [
    "#Taking a look at the cabin column\n",
    "deck = df_train['Cabin'].apply(lambda x : str(x).split('/')[0])\n",
    "num = df_train['Cabin'].apply(lambda x : str(x).split('/')[1] if len(str(x).split('/')) > 1 else ' ') \n",
    "side = df_train['Cabin'].apply(lambda x : str(x).split('/')[2] if len(str(x).split('/')) > 2 else ' ')"
   ]
  },
  {
   "cell_type": "code",
   "execution_count": 36,
   "metadata": {},
   "outputs": [
    {
     "name": "stdout",
     "output_type": "stream",
     "text": [
      "Cabin\n",
      "F    2749\n",
      "G    2709\n",
      "E     862\n",
      "B     761\n",
      "C     728\n",
      "D     468\n",
      "A     249\n",
      "T       5\n",
      "Name: count, dtype: int64\n",
      "The number of unique values is 8\n"
     ]
    }
   ],
   "source": [
    "print(deck.value_counts())\n",
    "deck.replace(to_replace='nan' , value = deck.mode().loc[0] , inplace  = True)\n",
    "print(\"The number of unique values is {}\".format(deck.nunique()))"
   ]
  },
  {
   "cell_type": "code",
   "execution_count": 37,
   "metadata": {},
   "outputs": [
    {
     "name": "stdout",
     "output_type": "stream",
     "text": [
      "The number of unique values in num is 1815\n",
      "Cabin\n",
      "734     202\n",
      "82       27\n",
      "19       21\n",
      "86       21\n",
      "97       21\n",
      "       ... \n",
      "1639      1\n",
      "1277      1\n",
      "1638      1\n",
      "1636      1\n",
      "1894      1\n",
      "Name: count, Length: 1815, dtype: int64\n",
      "Max cabin number 999\n",
      "Min cabin number is 0\n"
     ]
    }
   ],
   "source": [
    "#The num data has too many unique values\n",
    "print(\"The number of unique values in num is {}\".format(num.nunique()))\n",
    "num.replace(to_replace=\" \" , value = num.mode().loc[0],inplace=True)\n",
    "print(num.value_counts())\n",
    "print(\"Max cabin number {}\".format(num.max()))\n",
    "print(\"Min cabin number is {}\".format(num.min()))"
   ]
  },
  {
   "cell_type": "code",
   "execution_count": 38,
   "metadata": {},
   "outputs": [
    {
     "name": "stdout",
     "output_type": "stream",
     "text": [
      "0    1\n",
      "1    1\n",
      "2    1\n",
      "3    1\n",
      "4    1\n",
      "Name: Cabin_group, dtype: int64\n"
     ]
    }
   ],
   "source": [
    "#0-400 , group 1 \n",
    "#401 - 800 group 2 \n",
    "#801 - 1200 group 3 \n",
    "#1201 - 1600 group 4 \n",
    "#1601 - group 4\n",
    "\n",
    "df_train['Cabin_group'] = num.astype(np.int32).apply(lambda x : 1 if 0 <= x <= 400 else (2 if 401 <= x <= 800 else (3 if 801 <= x <= 1200 else (4 if 1201 <= x <= 1600 else 5))))\n",
    "print(df_train['Cabin_group'][:5])"
   ]
  },
  {
   "cell_type": "code",
   "execution_count": 39,
   "metadata": {},
   "outputs": [
    {
     "data": {
      "text/plain": [
       "<Axes: xlabel='Cabin_group', ylabel='count'>"
      ]
     },
     "execution_count": 39,
     "metadata": {},
     "output_type": "execute_result"
    },
    {
     "data": {
      "image/png": "[encoded data removed]",
      "text/plain": [
       "<Figure size 640x480 with 1 Axes>"
      ]
     },
     "metadata": {},
     "output_type": "display_data"
    }
   ],
   "source": [
    "sns.countplot(data = df_train , x = 'Cabin_group' , hue = 'Transported')"
   ]
  },
  {
   "cell_type": "code",
   "execution_count": 40,
   "metadata": {},
   "outputs": [
    {
     "name": "stdout",
     "output_type": "stream",
     "text": [
      "The number of unique values in num is 2\n",
      "Cabin\n",
      "S    4401\n",
      "P    4130\n",
      "Name: count, dtype: int64\n"
     ]
    }
   ],
   "source": [
    "print(\"The number of unique values in num is {}\".format(side.nunique()))\n",
    "side.replace(to_replace=\" \" , value = side.mode().loc[0],inplace=True)\n",
    "print(side.value_counts())"
   ]
  },
  {
   "cell_type": "code",
   "execution_count": 41,
   "metadata": {},
   "outputs": [
    {
     "data": {
      "text/plain": [
       "<Axes: xlabel='Cabin', ylabel='Count'>"
      ]
     },
     "execution_count": 41,
     "metadata": {},
     "output_type": "execute_result"
    },
    {
     "data": {
      "image/png": "[encoded data removed]",
      "text/plain": [
       "<Figure size 640x480 with 1 Axes>"
      ]
     },
     "metadata": {},
     "output_type": "display_data"
    }
   ],
   "source": [
    "sns.histplot(data = deck , x = deck ,hue = df_train.Transported)"
   ]
  },
  {
   "cell_type": "code",
   "execution_count": 42,
   "metadata": {},
   "outputs": [
    {
     "data": {
      "text/plain": [
       "<Axes: xlabel='Cabin', ylabel='Count'>"
      ]
     },
     "execution_count": 42,
     "metadata": {},
     "output_type": "execute_result"
    },
    {
     "data": {
      "image/png": "[encoded data removed]",
      "text/plain": [
       "<Figure size 640x480 with 1 Axes>"
      ]
     },
     "metadata": {},
     "output_type": "display_data"
    }
   ],
   "source": [
    "sns.histplot(data = side , x = side , hue = df_train.Transported)"
   ]
  },
  {
   "attachments": {},
   "cell_type": "markdown",
   "metadata": {},
   "source": [
    "People from Cabin S had higher chance of being transported "
   ]
  },
  {
   "cell_type": "code",
   "execution_count": 43,
   "metadata": {},
   "outputs": [
    {
     "name": "stdout",
     "output_type": "stream",
     "text": [
      "  HomePlanet  CryoSleep  Destination   Age  ...  Total_spent  Cabin_group  Side  Deck\n",
      "0     Europa      False  TRAPPIST-1e  39.0  ...          0.0            1     P     B\n",
      "1      Earth      False  TRAPPIST-1e  24.0  ...        736.0            1     S     F\n",
      "2     Europa      False  TRAPPIST-1e  58.0  ...      10383.0            1     S     A\n",
      "3     Europa      False  TRAPPIST-1e  33.0  ...       5176.0            1     S     A\n",
      "4      Earth      False  TRAPPIST-1e  16.0  ...       1091.0            1     S     F\n",
      "\n",
      "[5 rows x 17 columns]\n"
     ]
    }
   ],
   "source": [
    "df_train = pd.concat([df_train,pd.DataFrame(data={\"Side\" : side}), pd.DataFrame(data = {\"Deck\" : deck})], axis=1)\n",
    "df_train.drop(columns = ['PassengerId','Cabin'],axis=1,inplace = True)\n",
    "print(df_train.head())\n"
   ]
  },
  {
   "cell_type": "code",
   "execution_count": 44,
   "metadata": {},
   "outputs": [
    {
     "data": {
      "text/plain": [
       "<Axes: xlabel='CryoSleep', ylabel='Count'>"
      ]
     },
     "execution_count": 44,
     "metadata": {},
     "output_type": "execute_result"
    },
    {
     "data": {
      "image/png": "[encoded data removed]",
      "text/plain": [
       "<Figure size 640x480 with 1 Axes>"
      ]
     },
     "metadata": {},
     "output_type": "display_data"
    }
   ],
   "source": [
    "#People who opted for cryo sleep \n",
    "sns.histplot(data = df_train , x = df_train.CryoSleep.astype(np.int32) , hue = df_train.Transported)\n"
   ]
  },
  {
   "cell_type": "code",
   "execution_count": 45,
   "metadata": {},
   "outputs": [],
   "source": [
    "temp = df_train[['Transported' , 'CryoSleep']]\n",
    "false_transported = temp.groupby(['CryoSleep']).sum().loc[False][0]\n",
    "true_transported = temp.groupby(['CryoSleep']).sum().loc[True][0]\n",
    "false_total = temp.CryoSleep.value_counts().loc[False]\n",
    "true_total = temp.CryoSleep.value_counts().loc[True]\n"
   ]
  },
  {
   "cell_type": "code",
   "execution_count": 46,
   "metadata": {},
   "outputs": [
    {
     "name": "stdout",
     "output_type": "stream",
     "text": [
      "Percentage of people that opted for cryosleep and Got transported 81.653833277536\n",
      "Percentage of people that opted for cryosleep and Got transported 33.65800865800866\n"
     ]
    }
   ],
   "source": [
    "print(\"Percentage of people that opted for cryosleep and Got transported {}\".format((true_transported / true_total) * 100))\n",
    "print(\"Percentage of people that opted for cryosleep and Got transported {}\".format((false_transported / false_total) * 100))"
   ]
  },
  {
   "attachments": {},
   "cell_type": "markdown",
   "metadata": {},
   "source": [
    "So people who opted for cryosleep had much higher chance of being transported to correct location "
   ]
  },
  {
   "cell_type": "code",
   "execution_count": 47,
   "metadata": {},
   "outputs": [
    {
     "data": {
      "text/plain": [
       "<Axes: xlabel='HomePlanet', ylabel='Count'>"
      ]
     },
     "execution_count": 47,
     "metadata": {},
     "output_type": "execute_result"
    },
    {
     "data": {
      "image/png": "[encoded data removed]",
      "text/plain": [
       "<Figure size 640x480 with 1 Axes>"
      ]
     },
     "metadata": {},
     "output_type": "display_data"
    }
   ],
   "source": [
    "#Taking a look at homeplanet column\n",
    "sns.histplot(data = df_train , x = df_train['HomePlanet'] , hue = 'Transported')"
   ]
  },
  {
   "cell_type": "code",
   "execution_count": 48,
   "metadata": {},
   "outputs": [
    {
     "name": "stdout",
     "output_type": "stream",
     "text": [
      "The percentage \n",
      "            Transported\n",
      "HomePlanet             \n",
      "Earth              2025\n",
      "Europa             1376\n",
      "Mars                904\n"
     ]
    }
   ],
   "source": [
    "europa = df_train['HomePlanet'][df_train['HomePlanet'] == 'Europa']\n",
    "earth = df_train['HomePlanet'][df_train['HomePlanet'] == 'Earth']\n",
    "mars = df_train['HomePlanet'][df_train['HomePlanet'] == 'Mars']\n",
    "temp = df_train[['HomePlanet','Transported']]\n",
    "print(\"The percentage \")\n",
    "print(temp.groupby(['HomePlanet']).sum())"
   ]
  },
  {
   "cell_type": "code",
   "execution_count": 49,
   "metadata": {},
   "outputs": [
    {
     "name": "stdout",
     "output_type": "stream",
     "text": [
      "0       3\n",
      "1       2\n",
      "2       4\n",
      "3       3\n",
      "4       1\n",
      "       ..\n",
      "8688    3\n",
      "8689    1\n",
      "8690    2\n",
      "8691    3\n",
      "8692    3\n",
      "Name: Age_group, Length: 8531, dtype: int64\n"
     ]
    }
   ],
   "source": [
    "#Creating age groups from the Age column\n",
    "#If age is between 0 - 18 group1\n",
    "#19-30 - group 2 \n",
    "#30-45 - group 3 \n",
    "#45+ - group 4 \n",
    "\n",
    "df_train['Age_group'] = df_train['Age'].apply(lambda x: 1 if 0 <= x <= 18 else (2 if 19 <= x <= 30 else (3 if 31 <= x <= 45 else 4)))\n",
    "print(df_train.Age_group)"
   ]
  },
  {
   "cell_type": "code",
   "execution_count": 50,
   "metadata": {},
   "outputs": [
    {
     "data": {
      "text/plain": [
       "<Axes: xlabel='Age_group', ylabel='count'>"
      ]
     },
     "execution_count": 50,
     "metadata": {},
     "output_type": "execute_result"
    },
    {
     "data": {
      "image/png": "[encoded data removed]",
      "text/plain": [
       "<Figure size 640x480 with 1 Axes>"
      ]
     },
     "metadata": {},
     "output_type": "display_data"
    }
   ],
   "source": [
    "sns.countplot(data = df_train , x = 'Age_group' , hue = 'Transported')"
   ]
  },
  {
   "cell_type": "markdown",
   "metadata": {},
   "source": [
    "We had the maximum people from 2nd group , Also being from the group 1 had high chance of being transported."
   ]
  },
  {
   "cell_type": "code",
   "execution_count": 51,
   "metadata": {},
   "outputs": [
    {
     "name": "stdout",
     "output_type": "stream",
     "text": [
      "0      Maham Ofracculy\n",
      "1         Juanna Vines\n",
      "2        Altark Susent\n",
      "3         Solam Susent\n",
      "4    Willy Santantines\n",
      "Name: Name, dtype: object\n"
     ]
    }
   ],
   "source": [
    "#Taking a look at the name column \n",
    "\n",
    "print(df_train['Name'][:5])"
   ]
  },
  {
   "cell_type": "code",
   "execution_count": 52,
   "metadata": {},
   "outputs": [
    {
     "name": "stdout",
     "output_type": "stream",
     "text": [
      "0         Maham\n",
      "1        Juanna\n",
      "2        Altark\n",
      "3         Solam\n",
      "4         Willy\n",
      "         ...   \n",
      "8688    Gravior\n",
      "8689      Kurta\n",
      "8690      Fayey\n",
      "8691     Celeon\n",
      "8692     Propsh\n",
      "Name: Name, Length: 8531, dtype: object\n"
     ]
    }
   ],
   "source": [
    "first_name = df_train['Name'].apply(lambda x : str(x).split(\" \")[0])\n",
    "print(first_name)"
   ]
  },
  {
   "cell_type": "code",
   "execution_count": 53,
   "metadata": {},
   "outputs": [
    {
     "name": "stdout",
     "output_type": "stream",
     "text": [
      "2689\n",
      "Name\n",
      "Alraium    198\n",
      "Idace       13\n",
      "Loree       11\n",
      "Glena       11\n",
      "Dandra      11\n",
      "          ... \n",
      "Shabih       1\n",
      "Pyrohs       1\n",
      "Ray          1\n",
      "Crowls       1\n",
      "Chain        1\n",
      "Name: count, Length: 2689, dtype: int64\n"
     ]
    }
   ],
   "source": [
    "print(first_name.nunique())\n",
    "print(first_name.value_counts())"
   ]
  },
  {
   "cell_type": "code",
   "execution_count": 54,
   "metadata": {},
   "outputs": [
    {
     "name": "stdout",
     "output_type": "stream",
     "text": [
      "0         Ofracculy\n",
      "1             Vines\n",
      "2            Susent\n",
      "3            Susent\n",
      "4       Santantines\n",
      "           ...     \n",
      "8688      Noxnuther\n",
      "8689      Mondalley\n",
      "8690         Connon\n",
      "8691      Hontichre\n",
      "8692      Hontichre\n",
      "Name: Name, Length: 8531, dtype: object\n"
     ]
    }
   ],
   "source": [
    "sur_name = df_train['Name'].apply(lambda x : str(x).split(\" \")[1])\n",
    "print(sur_name)"
   ]
  },
  {
   "cell_type": "code",
   "execution_count": 55,
   "metadata": {},
   "outputs": [
    {
     "name": "stdout",
     "output_type": "stream",
     "text": [
      "2213\n"
     ]
    }
   ],
   "source": [
    "print(sur_name.nunique())"
   ]
  },
  {
   "cell_type": "code",
   "execution_count": 56,
   "metadata": {},
   "outputs": [
    {
     "data": {
      "text/plain": [
       "<Axes: >"
      ]
     },
     "execution_count": 56,
     "metadata": {},
     "output_type": "execute_result"
    },
    {
     "data": {
      "image/png": "[encoded data removed]",
      "text/plain": [
       "<Figure size 640x480 with 2 Axes>"
      ]
     },
     "metadata": {},
     "output_type": "display_data"
    }
   ],
   "source": [
    "#Correlation among features \n",
    "feat = []\n",
    "for i in df_train.columns :\n",
    "    if df_train[i].dtype != 'object':\n",
    "        feat.append(i)\n",
    "df_train[feat] = df_train[feat].astype(np.float32)\n",
    "sns.heatmap(data = df_train[feat].corr() , annot=True )"
   ]
  },
  {
   "cell_type": "code",
   "execution_count": 57,
   "metadata": {},
   "outputs": [],
   "source": [
    "#total_spent has better relations with transported and other columns compared to spent\n",
    "df_train.drop(columns = 'Spent' , axis = 1 , inplace = True)"
   ]
  },
  {
   "cell_type": "markdown",
   "metadata": {},
   "source": [
    "## Categorial Features"
   ]
  },
  {
   "cell_type": "code",
   "execution_count": 58,
   "metadata": {},
   "outputs": [
    {
     "data": {
      "text/html": [
       "<div>\n",
       "<style scoped>\n",
       "    .dataframe tbody tr th:only-of-type {\n",
       "        vertical-align: middle;\n",
       "    }\n",
       "\n",
       "    .dataframe tbody tr th {\n",
       "        vertical-align: top;\n",
       "    }\n",
       "\n",
       "    .dataframe thead th {\n",
       "        text-align: right;\n",
       "    }\n",
       "</style>\n",
       "<table border=\"1\" class=\"dataframe\">\n",
       "  <thead>\n",
       "    <tr style=\"text-align: right;\">\n",
       "      <th></th>\n",
       "      <th>HomePlanet</th>\n",
       "      <th>CryoSleep</th>\n",
       "      <th>Destination</th>\n",
       "      <th>Age</th>\n",
       "      <th>VIP</th>\n",
       "      <th>RoomService</th>\n",
       "      <th>FoodCourt</th>\n",
       "      <th>ShoppingMall</th>\n",
       "      <th>Spa</th>\n",
       "      <th>VRDeck</th>\n",
       "      <th>Name</th>\n",
       "      <th>Transported</th>\n",
       "      <th>Total_spent</th>\n",
       "      <th>Cabin_group</th>\n",
       "      <th>Side</th>\n",
       "      <th>Deck</th>\n",
       "      <th>Age_group</th>\n",
       "    </tr>\n",
       "  </thead>\n",
       "  <tbody>\n",
       "    <tr>\n",
       "      <th>0</th>\n",
       "      <td>Europa</td>\n",
       "      <td>0.0</td>\n",
       "      <td>TRAPPIST-1e</td>\n",
       "      <td>39.0</td>\n",
       "      <td>0.0</td>\n",
       "      <td>0.0</td>\n",
       "      <td>0.0</td>\n",
       "      <td>0.0</td>\n",
       "      <td>0.0</td>\n",
       "      <td>0.0</td>\n",
       "      <td>Maham Ofracculy</td>\n",
       "      <td>0.0</td>\n",
       "      <td>0.0</td>\n",
       "      <td>1.0</td>\n",
       "      <td>P</td>\n",
       "      <td>B</td>\n",
       "      <td>3.0</td>\n",
       "    </tr>\n",
       "    <tr>\n",
       "      <th>1</th>\n",
       "      <td>Earth</td>\n",
       "      <td>0.0</td>\n",
       "      <td>TRAPPIST-1e</td>\n",
       "      <td>24.0</td>\n",
       "      <td>0.0</td>\n",
       "      <td>109.0</td>\n",
       "      <td>9.0</td>\n",
       "      <td>25.0</td>\n",
       "      <td>549.0</td>\n",
       "      <td>44.0</td>\n",
       "      <td>Juanna Vines</td>\n",
       "      <td>1.0</td>\n",
       "      <td>736.0</td>\n",
       "      <td>1.0</td>\n",
       "      <td>S</td>\n",
       "      <td>F</td>\n",
       "      <td>2.0</td>\n",
       "    </tr>\n",
       "    <tr>\n",
       "      <th>2</th>\n",
       "      <td>Europa</td>\n",
       "      <td>0.0</td>\n",
       "      <td>TRAPPIST-1e</td>\n",
       "      <td>58.0</td>\n",
       "      <td>1.0</td>\n",
       "      <td>43.0</td>\n",
       "      <td>3576.0</td>\n",
       "      <td>0.0</td>\n",
       "      <td>6715.0</td>\n",
       "      <td>49.0</td>\n",
       "      <td>Altark Susent</td>\n",
       "      <td>0.0</td>\n",
       "      <td>10383.0</td>\n",
       "      <td>1.0</td>\n",
       "      <td>S</td>\n",
       "      <td>A</td>\n",
       "      <td>4.0</td>\n",
       "    </tr>\n",
       "    <tr>\n",
       "      <th>3</th>\n",
       "      <td>Europa</td>\n",
       "      <td>0.0</td>\n",
       "      <td>TRAPPIST-1e</td>\n",
       "      <td>33.0</td>\n",
       "      <td>0.0</td>\n",
       "      <td>0.0</td>\n",
       "      <td>1283.0</td>\n",
       "      <td>371.0</td>\n",
       "      <td>3329.0</td>\n",
       "      <td>193.0</td>\n",
       "      <td>Solam Susent</td>\n",
       "      <td>0.0</td>\n",
       "      <td>5176.0</td>\n",
       "      <td>1.0</td>\n",
       "      <td>S</td>\n",
       "      <td>A</td>\n",
       "      <td>3.0</td>\n",
       "    </tr>\n",
       "    <tr>\n",
       "      <th>4</th>\n",
       "      <td>Earth</td>\n",
       "      <td>0.0</td>\n",
       "      <td>TRAPPIST-1e</td>\n",
       "      <td>16.0</td>\n",
       "      <td>0.0</td>\n",
       "      <td>303.0</td>\n",
       "      <td>70.0</td>\n",
       "      <td>151.0</td>\n",
       "      <td>565.0</td>\n",
       "      <td>2.0</td>\n",
       "      <td>Willy Santantines</td>\n",
       "      <td>1.0</td>\n",
       "      <td>1091.0</td>\n",
       "      <td>1.0</td>\n",
       "      <td>S</td>\n",
       "      <td>F</td>\n",
       "      <td>1.0</td>\n",
       "    </tr>\n",
       "  </tbody>\n",
       "</table>\n",
       "</div>"
      ],
      "text/plain": [
       "  HomePlanet  CryoSleep  Destination   Age  ...  Cabin_group  Side  Deck  Age_group\n",
       "0     Europa        0.0  TRAPPIST-1e  39.0  ...          1.0     P     B        3.0\n",
       "1      Earth        0.0  TRAPPIST-1e  24.0  ...          1.0     S     F        2.0\n",
       "2     Europa        0.0  TRAPPIST-1e  58.0  ...          1.0     S     A        4.0\n",
       "3     Europa        0.0  TRAPPIST-1e  33.0  ...          1.0     S     A        3.0\n",
       "4      Earth        0.0  TRAPPIST-1e  16.0  ...          1.0     S     F        1.0\n",
       "\n",
       "[5 rows x 17 columns]"
      ]
     },
     "execution_count": 58,
     "metadata": {},
     "output_type": "execute_result"
    }
   ],
   "source": [
    "df_train.head()"
   ]
  },
  {
   "cell_type": "code",
   "execution_count": 59,
   "metadata": {},
   "outputs": [],
   "source": [
    "df_train.drop(columns='Name' ,axis = 1 , inplace = True)"
   ]
  },
  {
   "cell_type": "code",
   "execution_count": 60,
   "metadata": {},
   "outputs": [
    {
     "data": {
      "text/html": [
       "<div>\n",
       "<style scoped>\n",
       "    .dataframe tbody tr th:only-of-type {\n",
       "        vertical-align: middle;\n",
       "    }\n",
       "\n",
       "    .dataframe tbody tr th {\n",
       "        vertical-align: top;\n",
       "    }\n",
       "\n",
       "    .dataframe thead th {\n",
       "        text-align: right;\n",
       "    }\n",
       "</style>\n",
       "<table border=\"1\" class=\"dataframe\">\n",
       "  <thead>\n",
       "    <tr style=\"text-align: right;\">\n",
       "      <th></th>\n",
       "      <th>HomePlanet</th>\n",
       "      <th>CryoSleep</th>\n",
       "      <th>Destination</th>\n",
       "      <th>Age</th>\n",
       "      <th>VIP</th>\n",
       "      <th>RoomService</th>\n",
       "      <th>FoodCourt</th>\n",
       "      <th>ShoppingMall</th>\n",
       "      <th>Spa</th>\n",
       "      <th>VRDeck</th>\n",
       "      <th>Transported</th>\n",
       "      <th>Total_spent</th>\n",
       "      <th>Cabin_group</th>\n",
       "      <th>Side</th>\n",
       "      <th>Deck</th>\n",
       "      <th>Age_group</th>\n",
       "    </tr>\n",
       "  </thead>\n",
       "  <tbody>\n",
       "    <tr>\n",
       "      <th>0</th>\n",
       "      <td>Europa</td>\n",
       "      <td>0.0</td>\n",
       "      <td>TRAPPIST-1e</td>\n",
       "      <td>39.0</td>\n",
       "      <td>0.0</td>\n",
       "      <td>0.0</td>\n",
       "      <td>0.0</td>\n",
       "      <td>0.0</td>\n",
       "      <td>0.0</td>\n",
       "      <td>0.0</td>\n",
       "      <td>0.0</td>\n",
       "      <td>0.0</td>\n",
       "      <td>1.0</td>\n",
       "      <td>P</td>\n",
       "      <td>B</td>\n",
       "      <td>3.0</td>\n",
       "    </tr>\n",
       "    <tr>\n",
       "      <th>1</th>\n",
       "      <td>Earth</td>\n",
       "      <td>0.0</td>\n",
       "      <td>TRAPPIST-1e</td>\n",
       "      <td>24.0</td>\n",
       "      <td>0.0</td>\n",
       "      <td>109.0</td>\n",
       "      <td>9.0</td>\n",
       "      <td>25.0</td>\n",
       "      <td>549.0</td>\n",
       "      <td>44.0</td>\n",
       "      <td>1.0</td>\n",
       "      <td>736.0</td>\n",
       "      <td>1.0</td>\n",
       "      <td>S</td>\n",
       "      <td>F</td>\n",
       "      <td>2.0</td>\n",
       "    </tr>\n",
       "    <tr>\n",
       "      <th>2</th>\n",
       "      <td>Europa</td>\n",
       "      <td>0.0</td>\n",
       "      <td>TRAPPIST-1e</td>\n",
       "      <td>58.0</td>\n",
       "      <td>1.0</td>\n",
       "      <td>43.0</td>\n",
       "      <td>3576.0</td>\n",
       "      <td>0.0</td>\n",
       "      <td>6715.0</td>\n",
       "      <td>49.0</td>\n",
       "      <td>0.0</td>\n",
       "      <td>10383.0</td>\n",
       "      <td>1.0</td>\n",
       "      <td>S</td>\n",
       "      <td>A</td>\n",
       "      <td>4.0</td>\n",
       "    </tr>\n",
       "    <tr>\n",
       "      <th>3</th>\n",
       "      <td>Europa</td>\n",
       "      <td>0.0</td>\n",
       "      <td>TRAPPIST-1e</td>\n",
       "      <td>33.0</td>\n",
       "      <td>0.0</td>\n",
       "      <td>0.0</td>\n",
       "      <td>1283.0</td>\n",
       "      <td>371.0</td>\n",
       "      <td>3329.0</td>\n",
       "      <td>193.0</td>\n",
       "      <td>0.0</td>\n",
       "      <td>5176.0</td>\n",
       "      <td>1.0</td>\n",
       "      <td>S</td>\n",
       "      <td>A</td>\n",
       "      <td>3.0</td>\n",
       "    </tr>\n",
       "    <tr>\n",
       "      <th>4</th>\n",
       "      <td>Earth</td>\n",
       "      <td>0.0</td>\n",
       "      <td>TRAPPIST-1e</td>\n",
       "      <td>16.0</td>\n",
       "      <td>0.0</td>\n",
       "      <td>303.0</td>\n",
       "      <td>70.0</td>\n",
       "      <td>151.0</td>\n",
       "      <td>565.0</td>\n",
       "      <td>2.0</td>\n",
       "      <td>1.0</td>\n",
       "      <td>1091.0</td>\n",
       "      <td>1.0</td>\n",
       "      <td>S</td>\n",
       "      <td>F</td>\n",
       "      <td>1.0</td>\n",
       "    </tr>\n",
       "  </tbody>\n",
       "</table>\n",
       "</div>"
      ],
      "text/plain": [
       "  HomePlanet  CryoSleep  Destination   Age  ...  Cabin_group  Side  Deck  Age_group\n",
       "0     Europa        0.0  TRAPPIST-1e  39.0  ...          1.0     P     B        3.0\n",
       "1      Earth        0.0  TRAPPIST-1e  24.0  ...          1.0     S     F        2.0\n",
       "2     Europa        0.0  TRAPPIST-1e  58.0  ...          1.0     S     A        4.0\n",
       "3     Europa        0.0  TRAPPIST-1e  33.0  ...          1.0     S     A        3.0\n",
       "4      Earth        0.0  TRAPPIST-1e  16.0  ...          1.0     S     F        1.0\n",
       "\n",
       "[5 rows x 16 columns]"
      ]
     },
     "execution_count": 60,
     "metadata": {},
     "output_type": "execute_result"
    }
   ],
   "source": [
    "df_train.head()\n"
   ]
  },
  {
   "cell_type": "code",
   "execution_count": 61,
   "metadata": {},
   "outputs": [],
   "source": [
    "from sklearn.preprocessing import OneHotEncoder\n",
    "from sklearn.compose import ColumnTransformer\n",
    "from sklearn.preprocessing import LabelEncoder\n",
    "from sklearn.preprocessing import RobustScaler\n",
    "\n",
    "col = ColumnTransformer(\n",
    "    transformers=[\n",
    "        (\"transformer\", OneHotEncoder(), ['HomePlanet', 'CryoSleep', 'Destination', 'VIP', 'Deck', 'Side']),\n",
    "        #(\"scalar\" , RobustScaler() , [\"RoomService\",\"FoodCourt\",\"ShoppingMall\",\"Spa\",\"VRDeck\"] )\n",
    "    ],\n",
    "    remainder=\"passthrough\",\n",
    "    n_jobs=-1\n",
    ")\n",
    "\n",
    "col.fit(df_train)\n",
    "df_train = col.transform(df_train)\n"
   ]
  },
  {
   "cell_type": "code",
   "execution_count": 62,
   "metadata": {},
   "outputs": [
    {
     "name": "stdout",
     "output_type": "stream",
     "text": [
      "[[0.0000e+00 1.0000e+00 0.0000e+00 1.0000e+00 0.0000e+00 0.0000e+00\n",
      "  0.0000e+00 1.0000e+00 1.0000e+00 0.0000e+00 0.0000e+00 1.0000e+00\n",
      "  0.0000e+00 0.0000e+00 0.0000e+00 0.0000e+00 0.0000e+00 0.0000e+00\n",
      "  1.0000e+00 0.0000e+00 3.9000e+01 0.0000e+00 0.0000e+00 0.0000e+00\n",
      "  0.0000e+00 0.0000e+00 0.0000e+00 0.0000e+00 1.0000e+00 3.0000e+00]\n",
      " [1.0000e+00 0.0000e+00 0.0000e+00 1.0000e+00 0.0000e+00 0.0000e+00\n",
      "  0.0000e+00 1.0000e+00 1.0000e+00 0.0000e+00 0.0000e+00 0.0000e+00\n",
      "  0.0000e+00 0.0000e+00 0.0000e+00 1.0000e+00 0.0000e+00 0.0000e+00\n",
      "  0.0000e+00 1.0000e+00 2.4000e+01 1.0900e+02 9.0000e+00 2.5000e+01\n",
      "  5.4900e+02 4.4000e+01 1.0000e+00 7.3600e+02 1.0000e+00 2.0000e+00]\n",
      " [0.0000e+00 1.0000e+00 0.0000e+00 1.0000e+00 0.0000e+00 0.0000e+00\n",
      "  0.0000e+00 1.0000e+00 0.0000e+00 1.0000e+00 1.0000e+00 0.0000e+00\n",
      "  0.0000e+00 0.0000e+00 0.0000e+00 0.0000e+00 0.0000e+00 0.0000e+00\n",
      "  0.0000e+00 1.0000e+00 5.8000e+01 4.3000e+01 3.5760e+03 0.0000e+00\n",
      "  6.7150e+03 4.9000e+01 0.0000e+00 1.0383e+04 1.0000e+00 4.0000e+00]\n",
      " [0.0000e+00 1.0000e+00 0.0000e+00 1.0000e+00 0.0000e+00 0.0000e+00\n",
      "  0.0000e+00 1.0000e+00 1.0000e+00 0.0000e+00 1.0000e+00 0.0000e+00\n",
      "  0.0000e+00 0.0000e+00 0.0000e+00 0.0000e+00 0.0000e+00 0.0000e+00\n",
      "  0.0000e+00 1.0000e+00 3.3000e+01 0.0000e+00 1.2830e+03 3.7100e+02\n",
      "  3.3290e+03 1.9300e+02 0.0000e+00 5.1760e+03 1.0000e+00 3.0000e+00]\n",
      " [1.0000e+00 0.0000e+00 0.0000e+00 1.0000e+00 0.0000e+00 0.0000e+00\n",
      "  0.0000e+00 1.0000e+00 1.0000e+00 0.0000e+00 0.0000e+00 0.0000e+00\n",
      "  0.0000e+00 0.0000e+00 0.0000e+00 1.0000e+00 0.0000e+00 0.0000e+00\n",
      "  0.0000e+00 1.0000e+00 1.6000e+01 3.0300e+02 7.0000e+01 1.5100e+02\n",
      "  5.6500e+02 2.0000e+00 1.0000e+00 1.0910e+03 1.0000e+00 1.0000e+00]]\n"
     ]
    }
   ],
   "source": [
    "print(df_train[:5,:])"
   ]
  },
  {
   "cell_type": "markdown",
   "metadata": {},
   "source": [
    "## Modelling\n"
   ]
  },
  {
   "cell_type": "code",
   "execution_count": 63,
   "metadata": {},
   "outputs": [],
   "source": [
    "X = np.concatenate((df_train[:,:-4] , df_train[:,-3:]) , axis = 1)"
   ]
  },
  {
   "cell_type": "code",
   "execution_count": 64,
   "metadata": {},
   "outputs": [
    {
     "name": "stdout",
     "output_type": "stream",
     "text": [
      "[[0.0000e+00 1.0000e+00 0.0000e+00 1.0000e+00 0.0000e+00 0.0000e+00\n",
      "  0.0000e+00 1.0000e+00 1.0000e+00 0.0000e+00 0.0000e+00 1.0000e+00\n",
      "  0.0000e+00 0.0000e+00 0.0000e+00 0.0000e+00 0.0000e+00 0.0000e+00\n",
      "  1.0000e+00 0.0000e+00 3.9000e+01 0.0000e+00 0.0000e+00 0.0000e+00\n",
      "  0.0000e+00 0.0000e+00 0.0000e+00 1.0000e+00 3.0000e+00]\n",
      " [1.0000e+00 0.0000e+00 0.0000e+00 1.0000e+00 0.0000e+00 0.0000e+00\n",
      "  0.0000e+00 1.0000e+00 1.0000e+00 0.0000e+00 0.0000e+00 0.0000e+00\n",
      "  0.0000e+00 0.0000e+00 0.0000e+00 1.0000e+00 0.0000e+00 0.0000e+00\n",
      "  0.0000e+00 1.0000e+00 2.4000e+01 1.0900e+02 9.0000e+00 2.5000e+01\n",
      "  5.4900e+02 4.4000e+01 7.3600e+02 1.0000e+00 2.0000e+00]\n",
      " [0.0000e+00 1.0000e+00 0.0000e+00 1.0000e+00 0.0000e+00 0.0000e+00\n",
      "  0.0000e+00 1.0000e+00 0.0000e+00 1.0000e+00 1.0000e+00 0.0000e+00\n",
      "  0.0000e+00 0.0000e+00 0.0000e+00 0.0000e+00 0.0000e+00 0.0000e+00\n",
      "  0.0000e+00 1.0000e+00 5.8000e+01 4.3000e+01 3.5760e+03 0.0000e+00\n",
      "  6.7150e+03 4.9000e+01 1.0383e+04 1.0000e+00 4.0000e+00]\n",
      " [0.0000e+00 1.0000e+00 0.0000e+00 1.0000e+00 0.0000e+00 0.0000e+00\n",
      "  0.0000e+00 1.0000e+00 1.0000e+00 0.0000e+00 1.0000e+00 0.0000e+00\n",
      "  0.0000e+00 0.0000e+00 0.0000e+00 0.0000e+00 0.0000e+00 0.0000e+00\n",
      "  0.0000e+00 1.0000e+00 3.3000e+01 0.0000e+00 1.2830e+03 3.7100e+02\n",
      "  3.3290e+03 1.9300e+02 5.1760e+03 1.0000e+00 3.0000e+00]\n",
      " [1.0000e+00 0.0000e+00 0.0000e+00 1.0000e+00 0.0000e+00 0.0000e+00\n",
      "  0.0000e+00 1.0000e+00 1.0000e+00 0.0000e+00 0.0000e+00 0.0000e+00\n",
      "  0.0000e+00 0.0000e+00 0.0000e+00 1.0000e+00 0.0000e+00 0.0000e+00\n",
      "  0.0000e+00 1.0000e+00 1.6000e+01 3.0300e+02 7.0000e+01 1.5100e+02\n",
      "  5.6500e+02 2.0000e+00 1.0910e+03 1.0000e+00 1.0000e+00]]\n"
     ]
    }
   ],
   "source": [
    "print(X[:5,:])"
   ]
  },
  {
   "cell_type": "code",
   "execution_count": 65,
   "metadata": {},
   "outputs": [
    {
     "name": "stdout",
     "output_type": "stream",
     "text": [
      "[0. 1. 0. 0. 1.]\n"
     ]
    }
   ],
   "source": [
    "y = df_train[:,-4].astype(np.float32)\n",
    "print(y[:5])"
   ]
  },
  {
   "cell_type": "code",
   "execution_count": 66,
   "metadata": {},
   "outputs": [],
   "source": [
    "from sklearn.model_selection import train_test_split\n",
    "X_train ,X_valid , y_train , y_valid = train_test_split(X , y , random_state=69 , test_size=0.2)"
   ]
  },
  {
   "cell_type": "code",
   "execution_count": 67,
   "metadata": {},
   "outputs": [
    {
     "name": "stderr",
     "output_type": "stream",
     "text": [
      "<frozen importlib._bootstrap>:241: RuntimeWarning: numpy.ufunc size changed, may indicate binary incompatibility. Expected 216 from C header, got 232 from PyObject\n"
     ]
    },
    {
     "name": "stdout",
     "output_type": "stream",
     "text": [
      "Learning rate set to 0.023392\n",
      "0:\tlearn: 0.6835933\ttotal: 48.5ms\tremaining: 48.5s\n",
      "1:\tlearn: 0.6734618\ttotal: 51.5ms\tremaining: 25.7s\n",
      "2:\tlearn: 0.6633262\ttotal: 53.3ms\tremaining: 17.7s\n",
      "3:\tlearn: 0.6526345\ttotal: 55.2ms\tremaining: 13.7s\n",
      "4:\tlearn: 0.6431838\ttotal: 57.1ms\tremaining: 11.4s\n",
      "5:\tlearn: 0.6343353\ttotal: 59ms\tremaining: 9.77s\n",
      "6:\tlearn: 0.6257208\ttotal: 60.8ms\tremaining: 8.62s\n",
      "7:\tlearn: 0.6180147\ttotal: 62.9ms\tremaining: 7.8s\n",
      "8:\tlearn: 0.6100840\ttotal: 64.8ms\tremaining: 7.13s\n",
      "9:\tlearn: 0.6041868\ttotal: 67.1ms\tremaining: 6.64s\n",
      "10:\tlearn: 0.5966033\ttotal: 68.9ms\tremaining: 6.2s\n",
      "11:\tlearn: 0.5891377\ttotal: 71.4ms\tremaining: 5.88s\n",
      "12:\tlearn: 0.5830618\ttotal: 73.2ms\tremaining: 5.56s\n",
      "13:\tlearn: 0.5778059\ttotal: 75.3ms\tremaining: 5.3s\n",
      "14:\tlearn: 0.5728169\ttotal: 77.2ms\tremaining: 5.07s\n",
      "15:\tlearn: 0.5669352\ttotal: 79.2ms\tremaining: 4.87s\n",
      "16:\tlearn: 0.5620495\ttotal: 81.5ms\tremaining: 4.71s\n",
      "17:\tlearn: 0.5558324\ttotal: 83.3ms\tremaining: 4.55s\n",
      "18:\tlearn: 0.5513685\ttotal: 85.3ms\tremaining: 4.4s\n",
      "19:\tlearn: 0.5472562\ttotal: 87.2ms\tremaining: 4.27s\n",
      "20:\tlearn: 0.5436428\ttotal: 89ms\tremaining: 4.15s\n",
      "21:\tlearn: 0.5390838\ttotal: 90.6ms\tremaining: 4.03s\n",
      "22:\tlearn: 0.5355553\ttotal: 92.3ms\tremaining: 3.92s\n",
      "23:\tlearn: 0.5327319\ttotal: 94ms\tremaining: 3.82s\n",
      "24:\tlearn: 0.5298439\ttotal: 95.7ms\tremaining: 3.73s\n",
      "25:\tlearn: 0.5268959\ttotal: 97.7ms\tremaining: 3.66s\n",
      "26:\tlearn: 0.5222134\ttotal: 99.3ms\tremaining: 3.58s\n",
      "27:\tlearn: 0.5185357\ttotal: 101ms\tremaining: 3.5s\n",
      "28:\tlearn: 0.5152431\ttotal: 103ms\tremaining: 3.44s\n",
      "29:\tlearn: 0.5123898\ttotal: 104ms\tremaining: 3.37s\n",
      "30:\tlearn: 0.5100951\ttotal: 106ms\tremaining: 3.31s\n",
      "31:\tlearn: 0.5078029\ttotal: 108ms\tremaining: 3.26s\n",
      "32:\tlearn: 0.5042171\ttotal: 109ms\tremaining: 3.21s\n",
      "33:\tlearn: 0.5015284\ttotal: 111ms\tremaining: 3.16s\n",
      "34:\tlearn: 0.4983027\ttotal: 114ms\tremaining: 3.14s\n",
      "35:\tlearn: 0.4962993\ttotal: 115ms\tremaining: 3.09s\n",
      "36:\tlearn: 0.4942866\ttotal: 117ms\tremaining: 3.05s\n",
      "37:\tlearn: 0.4923572\ttotal: 119ms\tremaining: 3.01s\n",
      "38:\tlearn: 0.4908990\ttotal: 120ms\tremaining: 2.97s\n",
      "39:\tlearn: 0.4878138\ttotal: 122ms\tremaining: 2.93s\n",
      "40:\tlearn: 0.4859184\ttotal: 124ms\tremaining: 2.89s\n",
      "41:\tlearn: 0.4842221\ttotal: 125ms\tremaining: 2.86s\n",
      "42:\tlearn: 0.4827688\ttotal: 128ms\tremaining: 2.84s\n",
      "43:\tlearn: 0.4811368\ttotal: 130ms\tremaining: 2.83s\n",
      "44:\tlearn: 0.4794810\ttotal: 132ms\tremaining: 2.8s\n",
      "45:\tlearn: 0.4780747\ttotal: 134ms\tremaining: 2.78s\n",
      "46:\tlearn: 0.4767270\ttotal: 136ms\tremaining: 2.75s\n",
      "47:\tlearn: 0.4745579\ttotal: 138ms\tremaining: 2.73s\n",
      "48:\tlearn: 0.4724470\ttotal: 139ms\tremaining: 2.71s\n",
      "49:\tlearn: 0.4711236\ttotal: 141ms\tremaining: 2.68s\n",
      "50:\tlearn: 0.4694704\ttotal: 143ms\tremaining: 2.67s\n",
      "51:\tlearn: 0.4680631\ttotal: 145ms\tremaining: 2.65s\n",
      "52:\tlearn: 0.4669061\ttotal: 147ms\tremaining: 2.63s\n",
      "53:\tlearn: 0.4657822\ttotal: 149ms\tremaining: 2.61s\n",
      "54:\tlearn: 0.4641343\ttotal: 151ms\tremaining: 2.59s\n",
      "55:\tlearn: 0.4626423\ttotal: 152ms\tremaining: 2.56s\n",
      "56:\tlearn: 0.4615281\ttotal: 154ms\tremaining: 2.55s\n",
      "57:\tlearn: 0.4604309\ttotal: 156ms\tremaining: 2.53s\n",
      "58:\tlearn: 0.4595029\ttotal: 157ms\tremaining: 2.51s\n",
      "59:\tlearn: 0.4576845\ttotal: 160ms\tremaining: 2.51s\n",
      "60:\tlearn: 0.4567021\ttotal: 162ms\tremaining: 2.49s\n",
      "61:\tlearn: 0.4548341\ttotal: 164ms\tremaining: 2.48s\n",
      "62:\tlearn: 0.4537914\ttotal: 166ms\tremaining: 2.47s\n",
      "63:\tlearn: 0.4520438\ttotal: 168ms\tremaining: 2.45s\n",
      "64:\tlearn: 0.4511701\ttotal: 170ms\tremaining: 2.44s\n",
      "65:\tlearn: 0.4501022\ttotal: 171ms\tremaining: 2.42s\n",
      "66:\tlearn: 0.4485073\ttotal: 173ms\tremaining: 2.41s\n",
      "67:\tlearn: 0.4477469\ttotal: 175ms\tremaining: 2.4s\n",
      "68:\tlearn: 0.4467643\ttotal: 177ms\tremaining: 2.39s\n",
      "69:\tlearn: 0.4463056\ttotal: 179ms\tremaining: 2.37s\n",
      "70:\tlearn: 0.4452118\ttotal: 180ms\tremaining: 2.36s\n",
      "71:\tlearn: 0.4439226\ttotal: 182ms\tremaining: 2.35s\n",
      "72:\tlearn: 0.4429317\ttotal: 184ms\tremaining: 2.33s\n",
      "73:\tlearn: 0.4416570\ttotal: 185ms\tremaining: 2.32s\n",
      "74:\tlearn: 0.4407817\ttotal: 187ms\tremaining: 2.31s\n",
      "75:\tlearn: 0.4397711\ttotal: 190ms\tremaining: 2.3s\n",
      "76:\tlearn: 0.4386286\ttotal: 192ms\tremaining: 2.3s\n",
      "77:\tlearn: 0.4377809\ttotal: 194ms\tremaining: 2.29s\n",
      "78:\tlearn: 0.4366495\ttotal: 195ms\tremaining: 2.28s\n",
      "79:\tlearn: 0.4356156\ttotal: 197ms\tremaining: 2.27s\n",
      "80:\tlearn: 0.4347055\ttotal: 199ms\tremaining: 2.26s\n",
      "81:\tlearn: 0.4338211\ttotal: 201ms\tremaining: 2.25s\n",
      "82:\tlearn: 0.4330796\ttotal: 203ms\tremaining: 2.24s\n",
      "83:\tlearn: 0.4321102\ttotal: 204ms\tremaining: 2.23s\n",
      "84:\tlearn: 0.4311958\ttotal: 207ms\tremaining: 2.23s\n",
      "85:\tlearn: 0.4305549\ttotal: 209ms\tremaining: 2.22s\n",
      "86:\tlearn: 0.4299414\ttotal: 211ms\tremaining: 2.21s\n",
      "87:\tlearn: 0.4292210\ttotal: 212ms\tremaining: 2.2s\n",
      "88:\tlearn: 0.4285499\ttotal: 214ms\tremaining: 2.19s\n",
      "89:\tlearn: 0.4277595\ttotal: 216ms\tremaining: 2.18s\n",
      "90:\tlearn: 0.4267683\ttotal: 219ms\tremaining: 2.19s\n",
      "91:\tlearn: 0.4259864\ttotal: 221ms\tremaining: 2.18s\n",
      "92:\tlearn: 0.4250588\ttotal: 224ms\tremaining: 2.18s\n",
      "93:\tlearn: 0.4239343\ttotal: 226ms\tremaining: 2.18s\n",
      "94:\tlearn: 0.4234267\ttotal: 228ms\tremaining: 2.17s\n",
      "95:\tlearn: 0.4231376\ttotal: 229ms\tremaining: 2.16s\n",
      "96:\tlearn: 0.4225782\ttotal: 231ms\tremaining: 2.15s\n",
      "97:\tlearn: 0.4219220\ttotal: 233ms\tremaining: 2.14s\n",
      "98:\tlearn: 0.4213434\ttotal: 235ms\tremaining: 2.13s\n",
      "99:\tlearn: 0.4207579\ttotal: 236ms\tremaining: 2.13s\n",
      "100:\tlearn: 0.4203765\ttotal: 239ms\tremaining: 2.13s\n",
      "101:\tlearn: 0.4197482\ttotal: 241ms\tremaining: 2.12s\n",
      "102:\tlearn: 0.4190763\ttotal: 243ms\tremaining: 2.11s\n",
      "103:\tlearn: 0.4186167\ttotal: 244ms\tremaining: 2.1s\n",
      "104:\tlearn: 0.4178056\ttotal: 246ms\tremaining: 2.1s\n",
      "105:\tlearn: 0.4171676\ttotal: 248ms\tremaining: 2.09s\n",
      "106:\tlearn: 0.4164366\ttotal: 249ms\tremaining: 2.08s\n",
      "107:\tlearn: 0.4160888\ttotal: 251ms\tremaining: 2.07s\n",
      "108:\tlearn: 0.4157181\ttotal: 253ms\tremaining: 2.07s\n",
      "109:\tlearn: 0.4152610\ttotal: 255ms\tremaining: 2.07s\n",
      "110:\tlearn: 0.4147676\ttotal: 257ms\tremaining: 2.06s\n",
      "111:\tlearn: 0.4140469\ttotal: 259ms\tremaining: 2.05s\n",
      "112:\tlearn: 0.4137116\ttotal: 261ms\tremaining: 2.05s\n",
      "113:\tlearn: 0.4128689\ttotal: 263ms\tremaining: 2.04s\n",
      "114:\tlearn: 0.4122229\ttotal: 264ms\tremaining: 2.03s\n",
      "115:\tlearn: 0.4118327\ttotal: 266ms\tremaining: 2.03s\n",
      "116:\tlearn: 0.4114817\ttotal: 268ms\tremaining: 2.02s\n",
      "117:\tlearn: 0.4110893\ttotal: 270ms\tremaining: 2.02s\n",
      "118:\tlearn: 0.4107164\ttotal: 272ms\tremaining: 2.01s\n",
      "119:\tlearn: 0.4101348\ttotal: 274ms\tremaining: 2.01s\n",
      "120:\tlearn: 0.4096517\ttotal: 275ms\tremaining: 2s\n",
      "121:\tlearn: 0.4092721\ttotal: 277ms\tremaining: 1.99s\n",
      "122:\tlearn: 0.4085909\ttotal: 279ms\tremaining: 1.99s\n",
      "123:\tlearn: 0.4081081\ttotal: 281ms\tremaining: 1.98s\n",
      "124:\tlearn: 0.4079020\ttotal: 283ms\tremaining: 1.98s\n",
      "125:\tlearn: 0.4072349\ttotal: 284ms\tremaining: 1.97s\n",
      "126:\tlearn: 0.4068532\ttotal: 286ms\tremaining: 1.97s\n",
      "127:\tlearn: 0.4064137\ttotal: 288ms\tremaining: 1.96s\n",
      "128:\tlearn: 0.4060341\ttotal: 291ms\tremaining: 1.96s\n",
      "129:\tlearn: 0.4056416\ttotal: 293ms\tremaining: 1.96s\n",
      "130:\tlearn: 0.4051962\ttotal: 295ms\tremaining: 1.96s\n",
      "131:\tlearn: 0.4047061\ttotal: 297ms\tremaining: 1.95s\n",
      "132:\tlearn: 0.4042316\ttotal: 299ms\tremaining: 1.95s\n",
      "133:\tlearn: 0.4037997\ttotal: 302ms\tremaining: 1.95s\n",
      "134:\tlearn: 0.4033637\ttotal: 305ms\tremaining: 1.95s\n",
      "135:\tlearn: 0.4030808\ttotal: 307ms\tremaining: 1.95s\n",
      "136:\tlearn: 0.4025371\ttotal: 310ms\tremaining: 1.95s\n",
      "137:\tlearn: 0.4019311\ttotal: 312ms\tremaining: 1.95s\n",
      "138:\tlearn: 0.4014188\ttotal: 314ms\tremaining: 1.95s\n",
      "139:\tlearn: 0.4008760\ttotal: 317ms\tremaining: 1.95s\n",
      "140:\tlearn: 0.4002770\ttotal: 320ms\tremaining: 1.95s\n",
      "141:\tlearn: 0.3999633\ttotal: 322ms\tremaining: 1.95s\n",
      "142:\tlearn: 0.3995587\ttotal: 324ms\tremaining: 1.94s\n",
      "143:\tlearn: 0.3992111\ttotal: 327ms\tremaining: 1.94s\n",
      "144:\tlearn: 0.3988294\ttotal: 329ms\tremaining: 1.94s\n",
      "145:\tlearn: 0.3985979\ttotal: 331ms\tremaining: 1.94s\n",
      "146:\tlearn: 0.3981822\ttotal: 334ms\tremaining: 1.94s\n",
      "147:\tlearn: 0.3979218\ttotal: 338ms\tremaining: 1.94s\n",
      "148:\tlearn: 0.3976099\ttotal: 341ms\tremaining: 1.94s\n",
      "149:\tlearn: 0.3973237\ttotal: 343ms\tremaining: 1.94s\n",
      "150:\tlearn: 0.3966817\ttotal: 345ms\tremaining: 1.94s\n",
      "151:\tlearn: 0.3962344\ttotal: 347ms\tremaining: 1.94s\n",
      "152:\tlearn: 0.3957963\ttotal: 351ms\tremaining: 1.94s\n",
      "153:\tlearn: 0.3955372\ttotal: 353ms\tremaining: 1.94s\n",
      "154:\tlearn: 0.3953009\ttotal: 355ms\tremaining: 1.94s\n",
      "155:\tlearn: 0.3950544\ttotal: 357ms\tremaining: 1.93s\n",
      "156:\tlearn: 0.3947696\ttotal: 359ms\tremaining: 1.93s\n",
      "157:\tlearn: 0.3945311\ttotal: 362ms\tremaining: 1.93s\n",
      "158:\tlearn: 0.3942249\ttotal: 363ms\tremaining: 1.92s\n",
      "159:\tlearn: 0.3937399\ttotal: 366ms\tremaining: 1.92s\n",
      "160:\tlearn: 0.3934942\ttotal: 369ms\tremaining: 1.92s\n",
      "161:\tlearn: 0.3931533\ttotal: 373ms\tremaining: 1.93s\n",
      "162:\tlearn: 0.3929682\ttotal: 375ms\tremaining: 1.93s\n",
      "163:\tlearn: 0.3926882\ttotal: 377ms\tremaining: 1.92s\n",
      "164:\tlearn: 0.3924708\ttotal: 380ms\tremaining: 1.92s\n",
      "165:\tlearn: 0.3922453\ttotal: 383ms\tremaining: 1.92s\n",
      "166:\tlearn: 0.3920590\ttotal: 386ms\tremaining: 1.92s\n",
      "167:\tlearn: 0.3916065\ttotal: 388ms\tremaining: 1.92s\n",
      "168:\tlearn: 0.3913005\ttotal: 390ms\tremaining: 1.92s\n",
      "169:\tlearn: 0.3910500\ttotal: 393ms\tremaining: 1.92s\n",
      "170:\tlearn: 0.3906654\ttotal: 396ms\tremaining: 1.92s\n",
      "171:\tlearn: 0.3902661\ttotal: 400ms\tremaining: 1.93s\n",
      "172:\tlearn: 0.3899168\ttotal: 403ms\tremaining: 1.93s\n",
      "173:\tlearn: 0.3897121\ttotal: 408ms\tremaining: 1.94s\n",
      "174:\tlearn: 0.3892827\ttotal: 410ms\tremaining: 1.93s\n",
      "175:\tlearn: 0.3889332\ttotal: 416ms\tremaining: 1.95s\n",
      "176:\tlearn: 0.3887177\ttotal: 418ms\tremaining: 1.95s\n",
      "177:\tlearn: 0.3884938\ttotal: 421ms\tremaining: 1.94s\n",
      "178:\tlearn: 0.3881046\ttotal: 423ms\tremaining: 1.94s\n",
      "179:\tlearn: 0.3876385\ttotal: 426ms\tremaining: 1.94s\n",
      "180:\tlearn: 0.3873982\ttotal: 430ms\tremaining: 1.95s\n",
      "181:\tlearn: 0.3869776\ttotal: 432ms\tremaining: 1.94s\n",
      "182:\tlearn: 0.3867259\ttotal: 434ms\tremaining: 1.94s\n",
      "183:\tlearn: 0.3864302\ttotal: 436ms\tremaining: 1.93s\n",
      "184:\tlearn: 0.3862487\ttotal: 438ms\tremaining: 1.93s\n",
      "185:\tlearn: 0.3857560\ttotal: 441ms\tremaining: 1.93s\n",
      "186:\tlearn: 0.3855441\ttotal: 443ms\tremaining: 1.93s\n",
      "187:\tlearn: 0.3853350\ttotal: 446ms\tremaining: 1.93s\n",
      "188:\tlearn: 0.3850294\ttotal: 449ms\tremaining: 1.93s\n",
      "189:\tlearn: 0.3849061\ttotal: 451ms\tremaining: 1.92s\n",
      "190:\tlearn: 0.3846271\ttotal: 453ms\tremaining: 1.92s\n",
      "191:\tlearn: 0.3844523\ttotal: 455ms\tremaining: 1.91s\n",
      "192:\tlearn: 0.3843267\ttotal: 457ms\tremaining: 1.91s\n",
      "193:\tlearn: 0.3840992\ttotal: 459ms\tremaining: 1.91s\n",
      "194:\tlearn: 0.3839449\ttotal: 461ms\tremaining: 1.9s\n",
      "195:\tlearn: 0.3837103\ttotal: 463ms\tremaining: 1.9s\n",
      "196:\tlearn: 0.3834479\ttotal: 466ms\tremaining: 1.9s\n",
      "197:\tlearn: 0.3832954\ttotal: 468ms\tremaining: 1.9s\n",
      "198:\tlearn: 0.3830922\ttotal: 470ms\tremaining: 1.89s\n",
      "199:\tlearn: 0.3827793\ttotal: 472ms\tremaining: 1.89s\n",
      "200:\tlearn: 0.3825679\ttotal: 474ms\tremaining: 1.88s\n",
      "201:\tlearn: 0.3823715\ttotal: 477ms\tremaining: 1.88s\n",
      "202:\tlearn: 0.3820701\ttotal: 479ms\tremaining: 1.88s\n",
      "203:\tlearn: 0.3818652\ttotal: 481ms\tremaining: 1.88s\n",
      "204:\tlearn: 0.3817230\ttotal: 483ms\tremaining: 1.87s\n",
      "205:\tlearn: 0.3814982\ttotal: 485ms\tremaining: 1.87s\n",
      "206:\tlearn: 0.3812135\ttotal: 486ms\tremaining: 1.86s\n",
      "207:\tlearn: 0.3810492\ttotal: 488ms\tremaining: 1.86s\n",
      "208:\tlearn: 0.3807256\ttotal: 491ms\tremaining: 1.86s\n",
      "209:\tlearn: 0.3805571\ttotal: 493ms\tremaining: 1.86s\n",
      "210:\tlearn: 0.3803892\ttotal: 496ms\tremaining: 1.85s\n",
      "211:\tlearn: 0.3800885\ttotal: 498ms\tremaining: 1.85s\n",
      "212:\tlearn: 0.3798973\ttotal: 500ms\tremaining: 1.85s\n",
      "213:\tlearn: 0.3797426\ttotal: 502ms\tremaining: 1.84s\n",
      "214:\tlearn: 0.3795722\ttotal: 504ms\tremaining: 1.84s\n",
      "215:\tlearn: 0.3793529\ttotal: 507ms\tremaining: 1.84s\n",
      "216:\tlearn: 0.3791597\ttotal: 509ms\tremaining: 1.84s\n",
      "217:\tlearn: 0.3789734\ttotal: 511ms\tremaining: 1.83s\n",
      "218:\tlearn: 0.3788046\ttotal: 513ms\tremaining: 1.83s\n",
      "219:\tlearn: 0.3786068\ttotal: 516ms\tremaining: 1.83s\n",
      "220:\tlearn: 0.3784869\ttotal: 518ms\tremaining: 1.83s\n",
      "221:\tlearn: 0.3783472\ttotal: 520ms\tremaining: 1.82s\n",
      "222:\tlearn: 0.3782321\ttotal: 522ms\tremaining: 1.82s\n",
      "223:\tlearn: 0.3779845\ttotal: 525ms\tremaining: 1.82s\n",
      "224:\tlearn: 0.3776896\ttotal: 527ms\tremaining: 1.81s\n",
      "225:\tlearn: 0.3775077\ttotal: 528ms\tremaining: 1.81s\n",
      "226:\tlearn: 0.3773090\ttotal: 530ms\tremaining: 1.81s\n",
      "227:\tlearn: 0.3772049\ttotal: 532ms\tremaining: 1.8s\n",
      "228:\tlearn: 0.3770059\ttotal: 534ms\tremaining: 1.8s\n",
      "229:\tlearn: 0.3767886\ttotal: 536ms\tremaining: 1.79s\n",
      "230:\tlearn: 0.3765776\ttotal: 539ms\tremaining: 1.79s\n",
      "231:\tlearn: 0.3763910\ttotal: 542ms\tremaining: 1.79s\n",
      "232:\tlearn: 0.3760552\ttotal: 544ms\tremaining: 1.79s\n",
      "233:\tlearn: 0.3759543\ttotal: 546ms\tremaining: 1.78s\n",
      "234:\tlearn: 0.3758411\ttotal: 547ms\tremaining: 1.78s\n",
      "235:\tlearn: 0.3756906\ttotal: 549ms\tremaining: 1.78s\n",
      "236:\tlearn: 0.3754535\ttotal: 551ms\tremaining: 1.77s\n",
      "237:\tlearn: 0.3752671\ttotal: 555ms\tremaining: 1.78s\n",
      "238:\tlearn: 0.3751115\ttotal: 557ms\tremaining: 1.77s\n",
      "239:\tlearn: 0.3748662\ttotal: 559ms\tremaining: 1.77s\n",
      "240:\tlearn: 0.3746757\ttotal: 561ms\tremaining: 1.77s\n",
      "241:\tlearn: 0.3745100\ttotal: 564ms\tremaining: 1.76s\n",
      "242:\tlearn: 0.3743773\ttotal: 565ms\tremaining: 1.76s\n",
      "243:\tlearn: 0.3740564\ttotal: 567ms\tremaining: 1.76s\n",
      "244:\tlearn: 0.3738031\ttotal: 570ms\tremaining: 1.76s\n",
      "245:\tlearn: 0.3736399\ttotal: 574ms\tremaining: 1.76s\n",
      "246:\tlearn: 0.3735308\ttotal: 577ms\tremaining: 1.76s\n",
      "247:\tlearn: 0.3733524\ttotal: 579ms\tremaining: 1.75s\n",
      "248:\tlearn: 0.3732638\ttotal: 582ms\tremaining: 1.75s\n",
      "249:\tlearn: 0.3729737\ttotal: 588ms\tremaining: 1.76s\n",
      "250:\tlearn: 0.3728124\ttotal: 590ms\tremaining: 1.76s\n",
      "251:\tlearn: 0.3724909\ttotal: 593ms\tremaining: 1.76s\n",
      "252:\tlearn: 0.3722316\ttotal: 595ms\tremaining: 1.76s\n",
      "253:\tlearn: 0.3720687\ttotal: 597ms\tremaining: 1.75s\n",
      "254:\tlearn: 0.3719483\ttotal: 600ms\tremaining: 1.75s\n",
      "255:\tlearn: 0.3718498\ttotal: 602ms\tremaining: 1.75s\n",
      "256:\tlearn: 0.3716469\ttotal: 605ms\tremaining: 1.75s\n",
      "257:\tlearn: 0.3713532\ttotal: 607ms\tremaining: 1.75s\n",
      "258:\tlearn: 0.3711648\ttotal: 609ms\tremaining: 1.74s\n",
      "259:\tlearn: 0.3710710\ttotal: 613ms\tremaining: 1.75s\n",
      "260:\tlearn: 0.3709075\ttotal: 619ms\tremaining: 1.75s\n",
      "261:\tlearn: 0.3707000\ttotal: 622ms\tremaining: 1.75s\n",
      "262:\tlearn: 0.3704239\ttotal: 626ms\tremaining: 1.75s\n",
      "263:\tlearn: 0.3701582\ttotal: 628ms\tremaining: 1.75s\n",
      "264:\tlearn: 0.3699796\ttotal: 631ms\tremaining: 1.75s\n",
      "265:\tlearn: 0.3698789\ttotal: 634ms\tremaining: 1.75s\n",
      "266:\tlearn: 0.3696827\ttotal: 637ms\tremaining: 1.75s\n",
      "267:\tlearn: 0.3693865\ttotal: 643ms\tremaining: 1.76s\n",
      "268:\tlearn: 0.3692485\ttotal: 645ms\tremaining: 1.75s\n",
      "269:\tlearn: 0.3690524\ttotal: 648ms\tremaining: 1.75s\n",
      "270:\tlearn: 0.3687484\ttotal: 650ms\tremaining: 1.75s\n",
      "271:\tlearn: 0.3686005\ttotal: 653ms\tremaining: 1.75s\n",
      "272:\tlearn: 0.3684456\ttotal: 657ms\tremaining: 1.75s\n",
      "273:\tlearn: 0.3682769\ttotal: 663ms\tremaining: 1.76s\n",
      "274:\tlearn: 0.3681176\ttotal: 668ms\tremaining: 1.76s\n",
      "275:\tlearn: 0.3678637\ttotal: 673ms\tremaining: 1.76s\n",
      "276:\tlearn: 0.3678215\ttotal: 676ms\tremaining: 1.76s\n",
      "277:\tlearn: 0.3676715\ttotal: 684ms\tremaining: 1.78s\n",
      "278:\tlearn: 0.3675520\ttotal: 690ms\tremaining: 1.78s\n",
      "279:\tlearn: 0.3672972\ttotal: 726ms\tremaining: 1.87s\n",
      "280:\tlearn: 0.3669187\ttotal: 752ms\tremaining: 1.92s\n",
      "281:\tlearn: 0.3667912\ttotal: 769ms\tremaining: 1.96s\n",
      "282:\tlearn: 0.3664113\ttotal: 772ms\tremaining: 1.96s\n",
      "283:\tlearn: 0.3663178\ttotal: 775ms\tremaining: 1.95s\n",
      "284:\tlearn: 0.3661580\ttotal: 780ms\tremaining: 1.96s\n",
      "285:\tlearn: 0.3659367\ttotal: 782ms\tremaining: 1.95s\n",
      "286:\tlearn: 0.3657991\ttotal: 786ms\tremaining: 1.95s\n",
      "287:\tlearn: 0.3655640\ttotal: 789ms\tremaining: 1.95s\n",
      "288:\tlearn: 0.3654487\ttotal: 794ms\tremaining: 1.95s\n",
      "289:\tlearn: 0.3653263\ttotal: 799ms\tremaining: 1.96s\n",
      "290:\tlearn: 0.3651704\ttotal: 801ms\tremaining: 1.95s\n",
      "291:\tlearn: 0.3650498\ttotal: 805ms\tremaining: 1.95s\n",
      "292:\tlearn: 0.3649468\ttotal: 808ms\tremaining: 1.95s\n",
      "293:\tlearn: 0.3647701\ttotal: 812ms\tremaining: 1.95s\n",
      "294:\tlearn: 0.3646562\ttotal: 815ms\tremaining: 1.95s\n",
      "295:\tlearn: 0.3645101\ttotal: 818ms\tremaining: 1.94s\n",
      "296:\tlearn: 0.3642038\ttotal: 820ms\tremaining: 1.94s\n",
      "297:\tlearn: 0.3640837\ttotal: 823ms\tremaining: 1.94s\n",
      "298:\tlearn: 0.3639198\ttotal: 827ms\tremaining: 1.94s\n",
      "299:\tlearn: 0.3638555\ttotal: 830ms\tremaining: 1.94s\n",
      "300:\tlearn: 0.3637571\ttotal: 833ms\tremaining: 1.93s\n",
      "301:\tlearn: 0.3635411\ttotal: 836ms\tremaining: 1.93s\n",
      "302:\tlearn: 0.3633961\ttotal: 840ms\tremaining: 1.93s\n",
      "303:\tlearn: 0.3632397\ttotal: 842ms\tremaining: 1.93s\n",
      "304:\tlearn: 0.3631295\ttotal: 845ms\tremaining: 1.93s\n",
      "305:\tlearn: 0.3629791\ttotal: 848ms\tremaining: 1.92s\n",
      "306:\tlearn: 0.3627618\ttotal: 851ms\tremaining: 1.92s\n",
      "307:\tlearn: 0.3625711\ttotal: 855ms\tremaining: 1.92s\n",
      "308:\tlearn: 0.3624338\ttotal: 858ms\tremaining: 1.92s\n",
      "309:\tlearn: 0.3622815\ttotal: 861ms\tremaining: 1.92s\n",
      "310:\tlearn: 0.3621979\ttotal: 864ms\tremaining: 1.91s\n",
      "311:\tlearn: 0.3619545\ttotal: 867ms\tremaining: 1.91s\n",
      "312:\tlearn: 0.3617369\ttotal: 869ms\tremaining: 1.91s\n",
      "313:\tlearn: 0.3616395\ttotal: 872ms\tremaining: 1.91s\n",
      "314:\tlearn: 0.3615487\ttotal: 877ms\tremaining: 1.91s\n",
      "315:\tlearn: 0.3613968\ttotal: 881ms\tremaining: 1.91s\n",
      "316:\tlearn: 0.3612630\ttotal: 884ms\tremaining: 1.9s\n",
      "317:\tlearn: 0.3610564\ttotal: 888ms\tremaining: 1.9s\n",
      "318:\tlearn: 0.3608103\ttotal: 891ms\tremaining: 1.9s\n",
      "319:\tlearn: 0.3607161\ttotal: 894ms\tremaining: 1.9s\n",
      "320:\tlearn: 0.3605932\ttotal: 897ms\tremaining: 1.9s\n",
      "321:\tlearn: 0.3603943\ttotal: 901ms\tremaining: 1.9s\n",
      "322:\tlearn: 0.3603141\ttotal: 904ms\tremaining: 1.89s\n",
      "323:\tlearn: 0.3600661\ttotal: 908ms\tremaining: 1.89s\n",
      "324:\tlearn: 0.3599137\ttotal: 912ms\tremaining: 1.89s\n",
      "325:\tlearn: 0.3598104\ttotal: 915ms\tremaining: 1.89s\n",
      "326:\tlearn: 0.3596694\ttotal: 918ms\tremaining: 1.89s\n",
      "327:\tlearn: 0.3595273\ttotal: 921ms\tremaining: 1.89s\n",
      "328:\tlearn: 0.3593345\ttotal: 924ms\tremaining: 1.88s\n",
      "329:\tlearn: 0.3592628\ttotal: 927ms\tremaining: 1.88s\n",
      "330:\tlearn: 0.3590534\ttotal: 930ms\tremaining: 1.88s\n",
      "331:\tlearn: 0.3589794\ttotal: 933ms\tremaining: 1.88s\n",
      "332:\tlearn: 0.3588988\ttotal: 935ms\tremaining: 1.87s\n",
      "333:\tlearn: 0.3587951\ttotal: 938ms\tremaining: 1.87s\n",
      "334:\tlearn: 0.3587393\ttotal: 940ms\tremaining: 1.87s\n",
      "335:\tlearn: 0.3585594\ttotal: 943ms\tremaining: 1.86s\n",
      "336:\tlearn: 0.3584172\ttotal: 945ms\tremaining: 1.86s\n",
      "337:\tlearn: 0.3583122\ttotal: 948ms\tremaining: 1.86s\n",
      "338:\tlearn: 0.3582158\ttotal: 950ms\tremaining: 1.85s\n",
      "339:\tlearn: 0.3581252\ttotal: 953ms\tremaining: 1.85s\n",
      "340:\tlearn: 0.3578661\ttotal: 956ms\tremaining: 1.85s\n",
      "341:\tlearn: 0.3577686\ttotal: 958ms\tremaining: 1.84s\n",
      "342:\tlearn: 0.3576538\ttotal: 964ms\tremaining: 1.85s\n",
      "343:\tlearn: 0.3574961\ttotal: 967ms\tremaining: 1.84s\n",
      "344:\tlearn: 0.3574166\ttotal: 975ms\tremaining: 1.85s\n",
      "345:\tlearn: 0.3572373\ttotal: 980ms\tremaining: 1.85s\n",
      "346:\tlearn: 0.3571292\ttotal: 984ms\tremaining: 1.85s\n",
      "347:\tlearn: 0.3570264\ttotal: 987ms\tremaining: 1.85s\n",
      "348:\tlearn: 0.3568474\ttotal: 989ms\tremaining: 1.84s\n",
      "349:\tlearn: 0.3567438\ttotal: 992ms\tremaining: 1.84s\n",
      "350:\tlearn: 0.3566316\ttotal: 994ms\tremaining: 1.84s\n",
      "351:\tlearn: 0.3565256\ttotal: 996ms\tremaining: 1.83s\n",
      "352:\tlearn: 0.3563836\ttotal: 1s\tremaining: 1.83s\n",
      "353:\tlearn: 0.3562566\ttotal: 1s\tremaining: 1.83s\n",
      "354:\tlearn: 0.3560688\ttotal: 1s\tremaining: 1.83s\n",
      "355:\tlearn: 0.3559679\ttotal: 1.01s\tremaining: 1.82s\n",
      "356:\tlearn: 0.3557692\ttotal: 1.01s\tremaining: 1.82s\n",
      "357:\tlearn: 0.3556020\ttotal: 1.01s\tremaining: 1.81s\n",
      "358:\tlearn: 0.3554847\ttotal: 1.01s\tremaining: 1.81s\n",
      "359:\tlearn: 0.3553488\ttotal: 1.02s\tremaining: 1.81s\n",
      "360:\tlearn: 0.3552690\ttotal: 1.02s\tremaining: 1.81s\n",
      "361:\tlearn: 0.3551826\ttotal: 1.02s\tremaining: 1.8s\n",
      "362:\tlearn: 0.3550429\ttotal: 1.02s\tremaining: 1.8s\n",
      "363:\tlearn: 0.3548940\ttotal: 1.03s\tremaining: 1.79s\n",
      "364:\tlearn: 0.3547014\ttotal: 1.03s\tremaining: 1.79s\n",
      "365:\tlearn: 0.3545866\ttotal: 1.03s\tremaining: 1.79s\n",
      "366:\tlearn: 0.3544450\ttotal: 1.03s\tremaining: 1.78s\n",
      "367:\tlearn: 0.3543010\ttotal: 1.04s\tremaining: 1.78s\n",
      "368:\tlearn: 0.3539401\ttotal: 1.04s\tremaining: 1.77s\n",
      "369:\tlearn: 0.3538363\ttotal: 1.04s\tremaining: 1.77s\n",
      "370:\tlearn: 0.3537261\ttotal: 1.04s\tremaining: 1.77s\n",
      "371:\tlearn: 0.3536147\ttotal: 1.04s\tremaining: 1.76s\n",
      "372:\tlearn: 0.3534142\ttotal: 1.05s\tremaining: 1.76s\n",
      "373:\tlearn: 0.3532253\ttotal: 1.05s\tremaining: 1.76s\n",
      "374:\tlearn: 0.3530924\ttotal: 1.05s\tremaining: 1.75s\n",
      "375:\tlearn: 0.3528865\ttotal: 1.05s\tremaining: 1.75s\n",
      "376:\tlearn: 0.3527317\ttotal: 1.05s\tremaining: 1.74s\n",
      "377:\tlearn: 0.3525937\ttotal: 1.06s\tremaining: 1.74s\n",
      "378:\tlearn: 0.3524248\ttotal: 1.06s\tremaining: 1.74s\n",
      "379:\tlearn: 0.3521959\ttotal: 1.06s\tremaining: 1.73s\n",
      "380:\tlearn: 0.3520745\ttotal: 1.06s\tremaining: 1.73s\n",
      "381:\tlearn: 0.3519241\ttotal: 1.06s\tremaining: 1.72s\n",
      "382:\tlearn: 0.3517875\ttotal: 1.07s\tremaining: 1.72s\n",
      "383:\tlearn: 0.3516132\ttotal: 1.07s\tremaining: 1.72s\n",
      "384:\tlearn: 0.3514912\ttotal: 1.07s\tremaining: 1.71s\n",
      "385:\tlearn: 0.3513971\ttotal: 1.07s\tremaining: 1.71s\n",
      "386:\tlearn: 0.3512667\ttotal: 1.07s\tremaining: 1.7s\n",
      "387:\tlearn: 0.3511421\ttotal: 1.08s\tremaining: 1.7s\n",
      "388:\tlearn: 0.3509419\ttotal: 1.08s\tremaining: 1.7s\n",
      "389:\tlearn: 0.3507936\ttotal: 1.08s\tremaining: 1.69s\n",
      "390:\tlearn: 0.3506961\ttotal: 1.08s\tremaining: 1.69s\n",
      "391:\tlearn: 0.3506025\ttotal: 1.09s\tremaining: 1.69s\n",
      "392:\tlearn: 0.3504726\ttotal: 1.09s\tremaining: 1.68s\n",
      "393:\tlearn: 0.3502942\ttotal: 1.09s\tremaining: 1.68s\n",
      "394:\tlearn: 0.3501361\ttotal: 1.09s\tremaining: 1.67s\n",
      "395:\tlearn: 0.3500544\ttotal: 1.09s\tremaining: 1.67s\n",
      "396:\tlearn: 0.3499500\ttotal: 1.1s\tremaining: 1.66s\n",
      "397:\tlearn: 0.3498642\ttotal: 1.1s\tremaining: 1.66s\n",
      "398:\tlearn: 0.3497563\ttotal: 1.1s\tremaining: 1.66s\n",
      "399:\tlearn: 0.3496258\ttotal: 1.1s\tremaining: 1.65s\n",
      "400:\tlearn: 0.3495048\ttotal: 1.1s\tremaining: 1.65s\n",
      "401:\tlearn: 0.3494394\ttotal: 1.1s\tremaining: 1.64s\n",
      "402:\tlearn: 0.3493366\ttotal: 1.11s\tremaining: 1.64s\n",
      "403:\tlearn: 0.3492501\ttotal: 1.11s\tremaining: 1.64s\n",
      "404:\tlearn: 0.3491365\ttotal: 1.11s\tremaining: 1.63s\n",
      "405:\tlearn: 0.3490126\ttotal: 1.11s\tremaining: 1.63s\n",
      "406:\tlearn: 0.3489223\ttotal: 1.11s\tremaining: 1.63s\n",
      "407:\tlearn: 0.3487239\ttotal: 1.12s\tremaining: 1.62s\n",
      "408:\tlearn: 0.3485498\ttotal: 1.12s\tremaining: 1.62s\n",
      "409:\tlearn: 0.3484752\ttotal: 1.12s\tremaining: 1.61s\n",
      "410:\tlearn: 0.3484105\ttotal: 1.12s\tremaining: 1.61s\n",
      "411:\tlearn: 0.3482343\ttotal: 1.13s\tremaining: 1.6s\n",
      "412:\tlearn: 0.3481413\ttotal: 1.13s\tremaining: 1.6s\n",
      "413:\tlearn: 0.3480827\ttotal: 1.13s\tremaining: 1.6s\n",
      "414:\tlearn: 0.3479844\ttotal: 1.13s\tremaining: 1.59s\n",
      "415:\tlearn: 0.3476821\ttotal: 1.13s\tremaining: 1.59s\n",
      "416:\tlearn: 0.3475956\ttotal: 1.13s\tremaining: 1.59s\n",
      "417:\tlearn: 0.3474615\ttotal: 1.14s\tremaining: 1.58s\n",
      "418:\tlearn: 0.3472986\ttotal: 1.14s\tremaining: 1.58s\n",
      "419:\tlearn: 0.3472048\ttotal: 1.14s\tremaining: 1.57s\n",
      "420:\tlearn: 0.3470770\ttotal: 1.14s\tremaining: 1.57s\n",
      "421:\tlearn: 0.3469230\ttotal: 1.14s\tremaining: 1.57s\n",
      "422:\tlearn: 0.3466558\ttotal: 1.15s\tremaining: 1.56s\n",
      "423:\tlearn: 0.3464694\ttotal: 1.15s\tremaining: 1.56s\n",
      "424:\tlearn: 0.3463031\ttotal: 1.15s\tremaining: 1.56s\n",
      "425:\tlearn: 0.3461664\ttotal: 1.15s\tremaining: 1.55s\n",
      "426:\tlearn: 0.3459861\ttotal: 1.15s\tremaining: 1.55s\n",
      "427:\tlearn: 0.3458896\ttotal: 1.16s\tremaining: 1.55s\n",
      "428:\tlearn: 0.3457789\ttotal: 1.16s\tremaining: 1.54s\n",
      "429:\tlearn: 0.3456553\ttotal: 1.16s\tremaining: 1.54s\n",
      "430:\tlearn: 0.3455359\ttotal: 1.16s\tremaining: 1.53s\n",
      "431:\tlearn: 0.3454161\ttotal: 1.17s\tremaining: 1.53s\n",
      "432:\tlearn: 0.3451106\ttotal: 1.17s\tremaining: 1.53s\n",
      "433:\tlearn: 0.3449500\ttotal: 1.17s\tremaining: 1.53s\n",
      "434:\tlearn: 0.3448152\ttotal: 1.17s\tremaining: 1.52s\n",
      "435:\tlearn: 0.3447394\ttotal: 1.18s\tremaining: 1.52s\n",
      "436:\tlearn: 0.3445441\ttotal: 1.18s\tremaining: 1.52s\n",
      "437:\tlearn: 0.3444389\ttotal: 1.18s\tremaining: 1.51s\n",
      "438:\tlearn: 0.3443523\ttotal: 1.18s\tremaining: 1.51s\n",
      "439:\tlearn: 0.3442603\ttotal: 1.18s\tremaining: 1.51s\n",
      "440:\tlearn: 0.3441637\ttotal: 1.19s\tremaining: 1.5s\n",
      "441:\tlearn: 0.3440309\ttotal: 1.19s\tremaining: 1.5s\n",
      "442:\tlearn: 0.3437314\ttotal: 1.19s\tremaining: 1.5s\n",
      "443:\tlearn: 0.3436137\ttotal: 1.19s\tremaining: 1.49s\n",
      "444:\tlearn: 0.3433203\ttotal: 1.19s\tremaining: 1.49s\n",
      "445:\tlearn: 0.3431936\ttotal: 1.2s\tremaining: 1.49s\n",
      "446:\tlearn: 0.3430740\ttotal: 1.2s\tremaining: 1.48s\n",
      "447:\tlearn: 0.3429118\ttotal: 1.2s\tremaining: 1.48s\n",
      "448:\tlearn: 0.3427912\ttotal: 1.21s\tremaining: 1.48s\n",
      "449:\tlearn: 0.3426783\ttotal: 1.21s\tremaining: 1.48s\n",
      "450:\tlearn: 0.3424875\ttotal: 1.21s\tremaining: 1.47s\n",
      "451:\tlearn: 0.3423218\ttotal: 1.21s\tremaining: 1.47s\n",
      "452:\tlearn: 0.3421403\ttotal: 1.21s\tremaining: 1.47s\n",
      "453:\tlearn: 0.3418391\ttotal: 1.22s\tremaining: 1.46s\n",
      "454:\tlearn: 0.3416978\ttotal: 1.22s\tremaining: 1.46s\n",
      "455:\tlearn: 0.3416231\ttotal: 1.22s\tremaining: 1.46s\n",
      "456:\tlearn: 0.3415157\ttotal: 1.22s\tremaining: 1.45s\n",
      "457:\tlearn: 0.3413571\ttotal: 1.22s\tremaining: 1.45s\n",
      "458:\tlearn: 0.3412221\ttotal: 1.23s\tremaining: 1.45s\n",
      "459:\tlearn: 0.3409988\ttotal: 1.23s\tremaining: 1.44s\n",
      "460:\tlearn: 0.3408881\ttotal: 1.23s\tremaining: 1.44s\n",
      "461:\tlearn: 0.3407967\ttotal: 1.23s\tremaining: 1.44s\n",
      "462:\tlearn: 0.3406913\ttotal: 1.23s\tremaining: 1.43s\n",
      "463:\tlearn: 0.3405637\ttotal: 1.24s\tremaining: 1.43s\n",
      "464:\tlearn: 0.3403674\ttotal: 1.24s\tremaining: 1.43s\n",
      "465:\tlearn: 0.3401980\ttotal: 1.24s\tremaining: 1.42s\n",
      "466:\tlearn: 0.3401111\ttotal: 1.24s\tremaining: 1.42s\n",
      "467:\tlearn: 0.3399928\ttotal: 1.25s\tremaining: 1.42s\n",
      "468:\tlearn: 0.3397250\ttotal: 1.25s\tremaining: 1.41s\n",
      "469:\tlearn: 0.3396003\ttotal: 1.25s\tremaining: 1.41s\n",
      "470:\tlearn: 0.3394235\ttotal: 1.25s\tremaining: 1.41s\n",
      "471:\tlearn: 0.3392211\ttotal: 1.25s\tremaining: 1.4s\n",
      "472:\tlearn: 0.3391077\ttotal: 1.25s\tremaining: 1.4s\n",
      "473:\tlearn: 0.3388262\ttotal: 1.26s\tremaining: 1.4s\n",
      "474:\tlearn: 0.3385823\ttotal: 1.26s\tremaining: 1.39s\n",
      "475:\tlearn: 0.3384552\ttotal: 1.26s\tremaining: 1.39s\n",
      "476:\tlearn: 0.3383328\ttotal: 1.26s\tremaining: 1.39s\n",
      "477:\tlearn: 0.3381895\ttotal: 1.27s\tremaining: 1.38s\n",
      "478:\tlearn: 0.3379283\ttotal: 1.27s\tremaining: 1.38s\n",
      "479:\tlearn: 0.3377678\ttotal: 1.27s\tremaining: 1.38s\n",
      "480:\tlearn: 0.3376340\ttotal: 1.27s\tremaining: 1.38s\n",
      "481:\tlearn: 0.3375248\ttotal: 1.28s\tremaining: 1.37s\n",
      "482:\tlearn: 0.3373969\ttotal: 1.28s\tremaining: 1.37s\n",
      "483:\tlearn: 0.3373087\ttotal: 1.28s\tremaining: 1.36s\n",
      "484:\tlearn: 0.3371069\ttotal: 1.28s\tremaining: 1.36s\n",
      "485:\tlearn: 0.3370242\ttotal: 1.29s\tremaining: 1.36s\n",
      "486:\tlearn: 0.3368963\ttotal: 1.29s\tremaining: 1.36s\n",
      "487:\tlearn: 0.3368286\ttotal: 1.29s\tremaining: 1.35s\n",
      "488:\tlearn: 0.3367330\ttotal: 1.29s\tremaining: 1.35s\n",
      "489:\tlearn: 0.3365837\ttotal: 1.29s\tremaining: 1.35s\n",
      "490:\tlearn: 0.3364676\ttotal: 1.3s\tremaining: 1.34s\n",
      "491:\tlearn: 0.3361897\ttotal: 1.3s\tremaining: 1.34s\n",
      "492:\tlearn: 0.3360955\ttotal: 1.3s\tremaining: 1.34s\n",
      "493:\tlearn: 0.3359648\ttotal: 1.3s\tremaining: 1.33s\n",
      "494:\tlearn: 0.3358347\ttotal: 1.3s\tremaining: 1.33s\n",
      "495:\tlearn: 0.3356759\ttotal: 1.31s\tremaining: 1.33s\n",
      "496:\tlearn: 0.3355455\ttotal: 1.31s\tremaining: 1.32s\n",
      "497:\tlearn: 0.3354628\ttotal: 1.31s\tremaining: 1.32s\n",
      "498:\tlearn: 0.3353022\ttotal: 1.31s\tremaining: 1.32s\n",
      "499:\tlearn: 0.3351389\ttotal: 1.32s\tremaining: 1.32s\n",
      "500:\tlearn: 0.3350489\ttotal: 1.32s\tremaining: 1.31s\n",
      "501:\tlearn: 0.3349607\ttotal: 1.32s\tremaining: 1.31s\n",
      "502:\tlearn: 0.3347664\ttotal: 1.32s\tremaining: 1.31s\n",
      "503:\tlearn: 0.3346697\ttotal: 1.33s\tremaining: 1.3s\n",
      "504:\tlearn: 0.3345121\ttotal: 1.33s\tremaining: 1.3s\n",
      "505:\tlearn: 0.3343419\ttotal: 1.33s\tremaining: 1.3s\n",
      "506:\tlearn: 0.3341678\ttotal: 1.34s\tremaining: 1.3s\n",
      "507:\tlearn: 0.3338818\ttotal: 1.34s\tremaining: 1.3s\n",
      "508:\tlearn: 0.3337005\ttotal: 1.34s\tremaining: 1.29s\n",
      "509:\tlearn: 0.3335543\ttotal: 1.35s\tremaining: 1.29s\n",
      "510:\tlearn: 0.3332600\ttotal: 1.35s\tremaining: 1.3s\n",
      "511:\tlearn: 0.3331349\ttotal: 1.36s\tremaining: 1.29s\n",
      "512:\tlearn: 0.3329041\ttotal: 1.36s\tremaining: 1.29s\n",
      "513:\tlearn: 0.3328304\ttotal: 1.37s\tremaining: 1.29s\n",
      "514:\tlearn: 0.3327510\ttotal: 1.37s\tremaining: 1.29s\n",
      "515:\tlearn: 0.3326254\ttotal: 1.38s\tremaining: 1.29s\n",
      "516:\tlearn: 0.3325381\ttotal: 1.38s\tremaining: 1.29s\n",
      "517:\tlearn: 0.3324461\ttotal: 1.39s\tremaining: 1.29s\n",
      "518:\tlearn: 0.3322047\ttotal: 1.39s\tremaining: 1.29s\n",
      "519:\tlearn: 0.3320787\ttotal: 1.39s\tremaining: 1.29s\n",
      "520:\tlearn: 0.3319617\ttotal: 1.4s\tremaining: 1.29s\n",
      "521:\tlearn: 0.3318368\ttotal: 1.41s\tremaining: 1.29s\n",
      "522:\tlearn: 0.3317532\ttotal: 1.41s\tremaining: 1.28s\n",
      "523:\tlearn: 0.3315787\ttotal: 1.41s\tremaining: 1.28s\n",
      "524:\tlearn: 0.3314544\ttotal: 1.42s\tremaining: 1.28s\n",
      "525:\tlearn: 0.3313234\ttotal: 1.42s\tremaining: 1.28s\n",
      "526:\tlearn: 0.3311802\ttotal: 1.44s\tremaining: 1.29s\n",
      "527:\tlearn: 0.3310398\ttotal: 1.44s\tremaining: 1.28s\n",
      "528:\tlearn: 0.3309094\ttotal: 1.44s\tremaining: 1.28s\n",
      "529:\tlearn: 0.3307848\ttotal: 1.44s\tremaining: 1.28s\n",
      "530:\tlearn: 0.3305589\ttotal: 1.45s\tremaining: 1.28s\n",
      "531:\tlearn: 0.3304727\ttotal: 1.45s\tremaining: 1.27s\n",
      "532:\tlearn: 0.3303117\ttotal: 1.45s\tremaining: 1.27s\n",
      "533:\tlearn: 0.3302028\ttotal: 1.45s\tremaining: 1.27s\n",
      "534:\tlearn: 0.3300589\ttotal: 1.46s\tremaining: 1.26s\n",
      "535:\tlearn: 0.3299271\ttotal: 1.46s\tremaining: 1.26s\n",
      "536:\tlearn: 0.3297857\ttotal: 1.46s\tremaining: 1.26s\n",
      "537:\tlearn: 0.3296892\ttotal: 1.46s\tremaining: 1.26s\n",
      "538:\tlearn: 0.3295902\ttotal: 1.46s\tremaining: 1.25s\n",
      "539:\tlearn: 0.3294243\ttotal: 1.47s\tremaining: 1.25s\n",
      "540:\tlearn: 0.3293363\ttotal: 1.47s\tremaining: 1.25s\n",
      "541:\tlearn: 0.3292486\ttotal: 1.47s\tremaining: 1.24s\n",
      "542:\tlearn: 0.3291413\ttotal: 1.47s\tremaining: 1.24s\n",
      "543:\tlearn: 0.3289238\ttotal: 1.48s\tremaining: 1.24s\n",
      "544:\tlearn: 0.3287654\ttotal: 1.48s\tremaining: 1.24s\n",
      "545:\tlearn: 0.3286347\ttotal: 1.48s\tremaining: 1.23s\n",
      "546:\tlearn: 0.3285113\ttotal: 1.49s\tremaining: 1.23s\n",
      "547:\tlearn: 0.3283192\ttotal: 1.49s\tremaining: 1.23s\n",
      "548:\tlearn: 0.3280549\ttotal: 1.49s\tremaining: 1.22s\n",
      "549:\tlearn: 0.3278500\ttotal: 1.49s\tremaining: 1.22s\n",
      "550:\tlearn: 0.3276773\ttotal: 1.5s\tremaining: 1.22s\n",
      "551:\tlearn: 0.3275937\ttotal: 1.5s\tremaining: 1.22s\n",
      "552:\tlearn: 0.3275300\ttotal: 1.5s\tremaining: 1.21s\n",
      "553:\tlearn: 0.3274139\ttotal: 1.5s\tremaining: 1.21s\n",
      "554:\tlearn: 0.3273388\ttotal: 1.5s\tremaining: 1.21s\n",
      "555:\tlearn: 0.3271585\ttotal: 1.51s\tremaining: 1.2s\n",
      "556:\tlearn: 0.3269472\ttotal: 1.51s\tremaining: 1.2s\n",
      "557:\tlearn: 0.3268270\ttotal: 1.51s\tremaining: 1.2s\n",
      "558:\tlearn: 0.3266650\ttotal: 1.52s\tremaining: 1.2s\n",
      "559:\tlearn: 0.3264913\ttotal: 1.52s\tremaining: 1.19s\n",
      "560:\tlearn: 0.3263886\ttotal: 1.52s\tremaining: 1.19s\n",
      "561:\tlearn: 0.3263188\ttotal: 1.52s\tremaining: 1.19s\n",
      "562:\tlearn: 0.3262433\ttotal: 1.53s\tremaining: 1.19s\n",
      "563:\tlearn: 0.3260891\ttotal: 1.53s\tremaining: 1.18s\n",
      "564:\tlearn: 0.3259370\ttotal: 1.53s\tremaining: 1.18s\n",
      "565:\tlearn: 0.3258236\ttotal: 1.53s\tremaining: 1.18s\n",
      "566:\tlearn: 0.3257046\ttotal: 1.53s\tremaining: 1.17s\n",
      "567:\tlearn: 0.3255408\ttotal: 1.54s\tremaining: 1.17s\n",
      "568:\tlearn: 0.3254574\ttotal: 1.54s\tremaining: 1.17s\n",
      "569:\tlearn: 0.3253393\ttotal: 1.54s\tremaining: 1.16s\n",
      "570:\tlearn: 0.3251901\ttotal: 1.55s\tremaining: 1.16s\n",
      "571:\tlearn: 0.3250435\ttotal: 1.55s\tremaining: 1.16s\n",
      "572:\tlearn: 0.3249647\ttotal: 1.55s\tremaining: 1.16s\n",
      "573:\tlearn: 0.3248392\ttotal: 1.55s\tremaining: 1.15s\n",
      "574:\tlearn: 0.3246427\ttotal: 1.56s\tremaining: 1.16s\n",
      "575:\tlearn: 0.3244820\ttotal: 1.56s\tremaining: 1.15s\n",
      "576:\tlearn: 0.3243175\ttotal: 1.57s\tremaining: 1.15s\n",
      "577:\tlearn: 0.3241684\ttotal: 1.57s\tremaining: 1.15s\n",
      "578:\tlearn: 0.3240547\ttotal: 1.57s\tremaining: 1.14s\n",
      "579:\tlearn: 0.3239209\ttotal: 1.57s\tremaining: 1.14s\n",
      "580:\tlearn: 0.3237931\ttotal: 1.58s\tremaining: 1.14s\n",
      "581:\tlearn: 0.3236862\ttotal: 1.58s\tremaining: 1.13s\n",
      "582:\tlearn: 0.3235910\ttotal: 1.58s\tremaining: 1.13s\n",
      "583:\tlearn: 0.3233503\ttotal: 1.58s\tremaining: 1.13s\n",
      "584:\tlearn: 0.3231907\ttotal: 1.58s\tremaining: 1.12s\n",
      "585:\tlearn: 0.3230719\ttotal: 1.59s\tremaining: 1.12s\n",
      "586:\tlearn: 0.3228993\ttotal: 1.59s\tremaining: 1.12s\n",
      "587:\tlearn: 0.3227945\ttotal: 1.59s\tremaining: 1.11s\n",
      "588:\tlearn: 0.3225732\ttotal: 1.59s\tremaining: 1.11s\n",
      "589:\tlearn: 0.3224622\ttotal: 1.6s\tremaining: 1.11s\n",
      "590:\tlearn: 0.3223397\ttotal: 1.6s\tremaining: 1.11s\n",
      "591:\tlearn: 0.3222337\ttotal: 1.6s\tremaining: 1.1s\n",
      "592:\tlearn: 0.3221113\ttotal: 1.6s\tremaining: 1.1s\n",
      "593:\tlearn: 0.3220386\ttotal: 1.61s\tremaining: 1.1s\n",
      "594:\tlearn: 0.3219569\ttotal: 1.61s\tremaining: 1.09s\n",
      "595:\tlearn: 0.3218069\ttotal: 1.61s\tremaining: 1.09s\n",
      "596:\tlearn: 0.3216980\ttotal: 1.61s\tremaining: 1.09s\n",
      "597:\tlearn: 0.3216082\ttotal: 1.61s\tremaining: 1.08s\n",
      "598:\tlearn: 0.3215092\ttotal: 1.62s\tremaining: 1.08s\n",
      "599:\tlearn: 0.3213610\ttotal: 1.62s\tremaining: 1.08s\n",
      "600:\tlearn: 0.3212587\ttotal: 1.62s\tremaining: 1.08s\n",
      "601:\tlearn: 0.3211085\ttotal: 1.62s\tremaining: 1.07s\n",
      "602:\tlearn: 0.3209949\ttotal: 1.62s\tremaining: 1.07s\n",
      "603:\tlearn: 0.3208754\ttotal: 1.63s\tremaining: 1.07s\n",
      "604:\tlearn: 0.3207244\ttotal: 1.63s\tremaining: 1.06s\n",
      "605:\tlearn: 0.3206109\ttotal: 1.64s\tremaining: 1.06s\n",
      "606:\tlearn: 0.3204988\ttotal: 1.64s\tremaining: 1.06s\n",
      "607:\tlearn: 0.3203890\ttotal: 1.64s\tremaining: 1.06s\n",
      "608:\tlearn: 0.3202734\ttotal: 1.64s\tremaining: 1.05s\n",
      "609:\tlearn: 0.3201668\ttotal: 1.64s\tremaining: 1.05s\n",
      "610:\tlearn: 0.3199939\ttotal: 1.65s\tremaining: 1.05s\n",
      "611:\tlearn: 0.3198928\ttotal: 1.65s\tremaining: 1.04s\n",
      "612:\tlearn: 0.3197560\ttotal: 1.65s\tremaining: 1.04s\n",
      "613:\tlearn: 0.3195955\ttotal: 1.65s\tremaining: 1.04s\n",
      "614:\tlearn: 0.3194610\ttotal: 1.66s\tremaining: 1.04s\n",
      "615:\tlearn: 0.3194030\ttotal: 1.66s\tremaining: 1.03s\n",
      "616:\tlearn: 0.3192933\ttotal: 1.66s\tremaining: 1.03s\n",
      "617:\tlearn: 0.3192377\ttotal: 1.66s\tremaining: 1.03s\n",
      "618:\tlearn: 0.3191247\ttotal: 1.66s\tremaining: 1.02s\n",
      "619:\tlearn: 0.3190209\ttotal: 1.67s\tremaining: 1.02s\n",
      "620:\tlearn: 0.3187945\ttotal: 1.67s\tremaining: 1.02s\n",
      "621:\tlearn: 0.3185469\ttotal: 1.67s\tremaining: 1.01s\n",
      "622:\tlearn: 0.3183786\ttotal: 1.67s\tremaining: 1.01s\n",
      "623:\tlearn: 0.3182653\ttotal: 1.67s\tremaining: 1.01s\n",
      "624:\tlearn: 0.3181624\ttotal: 1.68s\tremaining: 1s\n",
      "625:\tlearn: 0.3180681\ttotal: 1.68s\tremaining: 1s\n",
      "626:\tlearn: 0.3179941\ttotal: 1.68s\tremaining: 999ms\n",
      "627:\tlearn: 0.3178300\ttotal: 1.68s\tremaining: 997ms\n",
      "628:\tlearn: 0.3177078\ttotal: 1.68s\tremaining: 994ms\n",
      "629:\tlearn: 0.3175787\ttotal: 1.69s\tremaining: 991ms\n",
      "630:\tlearn: 0.3174564\ttotal: 1.69s\tremaining: 988ms\n",
      "631:\tlearn: 0.3172832\ttotal: 1.69s\tremaining: 984ms\n",
      "632:\tlearn: 0.3171578\ttotal: 1.69s\tremaining: 981ms\n",
      "633:\tlearn: 0.3170992\ttotal: 1.69s\tremaining: 978ms\n",
      "634:\tlearn: 0.3170459\ttotal: 1.7s\tremaining: 975ms\n",
      "635:\tlearn: 0.3169556\ttotal: 1.7s\tremaining: 972ms\n",
      "636:\tlearn: 0.3168526\ttotal: 1.7s\tremaining: 969ms\n",
      "637:\tlearn: 0.3166197\ttotal: 1.7s\tremaining: 966ms\n",
      "638:\tlearn: 0.3164989\ttotal: 1.71s\tremaining: 963ms\n",
      "639:\tlearn: 0.3163957\ttotal: 1.71s\tremaining: 961ms\n",
      "640:\tlearn: 0.3162554\ttotal: 1.71s\tremaining: 958ms\n",
      "641:\tlearn: 0.3160906\ttotal: 1.71s\tremaining: 955ms\n",
      "642:\tlearn: 0.3159749\ttotal: 1.71s\tremaining: 952ms\n",
      "643:\tlearn: 0.3157165\ttotal: 1.72s\tremaining: 949ms\n",
      "644:\tlearn: 0.3155472\ttotal: 1.72s\tremaining: 946ms\n",
      "645:\tlearn: 0.3153915\ttotal: 1.72s\tremaining: 943ms\n",
      "646:\tlearn: 0.3153129\ttotal: 1.72s\tremaining: 940ms\n",
      "647:\tlearn: 0.3152449\ttotal: 1.72s\tremaining: 937ms\n",
      "648:\tlearn: 0.3151492\ttotal: 1.73s\tremaining: 934ms\n",
      "649:\tlearn: 0.3150656\ttotal: 1.73s\tremaining: 931ms\n",
      "650:\tlearn: 0.3149589\ttotal: 1.73s\tremaining: 928ms\n",
      "651:\tlearn: 0.3147987\ttotal: 1.73s\tremaining: 925ms\n",
      "652:\tlearn: 0.3146600\ttotal: 1.74s\tremaining: 922ms\n",
      "653:\tlearn: 0.3145912\ttotal: 1.74s\tremaining: 919ms\n",
      "654:\tlearn: 0.3145097\ttotal: 1.74s\tremaining: 916ms\n",
      "655:\tlearn: 0.3144305\ttotal: 1.74s\tremaining: 913ms\n",
      "656:\tlearn: 0.3143436\ttotal: 1.75s\tremaining: 913ms\n",
      "657:\tlearn: 0.3142561\ttotal: 1.75s\tremaining: 911ms\n",
      "658:\tlearn: 0.3140451\ttotal: 1.75s\tremaining: 908ms\n",
      "659:\tlearn: 0.3139190\ttotal: 1.76s\tremaining: 906ms\n",
      "660:\tlearn: 0.3138159\ttotal: 1.76s\tremaining: 903ms\n",
      "661:\tlearn: 0.3137481\ttotal: 1.76s\tremaining: 901ms\n",
      "662:\tlearn: 0.3136458\ttotal: 1.76s\tremaining: 898ms\n",
      "663:\tlearn: 0.3135847\ttotal: 1.77s\tremaining: 895ms\n",
      "664:\tlearn: 0.3135407\ttotal: 1.77s\tremaining: 892ms\n",
      "665:\tlearn: 0.3134816\ttotal: 1.77s\tremaining: 889ms\n",
      "666:\tlearn: 0.3134073\ttotal: 1.77s\tremaining: 886ms\n",
      "667:\tlearn: 0.3132884\ttotal: 1.78s\tremaining: 883ms\n",
      "668:\tlearn: 0.3131893\ttotal: 1.78s\tremaining: 881ms\n",
      "669:\tlearn: 0.3131018\ttotal: 1.78s\tremaining: 878ms\n",
      "670:\tlearn: 0.3129898\ttotal: 1.78s\tremaining: 875ms\n",
      "671:\tlearn: 0.3129243\ttotal: 1.79s\tremaining: 872ms\n",
      "672:\tlearn: 0.3128300\ttotal: 1.79s\tremaining: 869ms\n",
      "673:\tlearn: 0.3126313\ttotal: 1.79s\tremaining: 867ms\n",
      "674:\tlearn: 0.3124579\ttotal: 1.79s\tremaining: 864ms\n",
      "675:\tlearn: 0.3123241\ttotal: 1.79s\tremaining: 861ms\n",
      "676:\tlearn: 0.3121918\ttotal: 1.8s\tremaining: 858ms\n",
      "677:\tlearn: 0.3120572\ttotal: 1.8s\tremaining: 855ms\n",
      "678:\tlearn: 0.3119309\ttotal: 1.8s\tremaining: 852ms\n",
      "679:\tlearn: 0.3118208\ttotal: 1.8s\tremaining: 849ms\n",
      "680:\tlearn: 0.3116791\ttotal: 1.81s\tremaining: 846ms\n",
      "681:\tlearn: 0.3115280\ttotal: 1.81s\tremaining: 844ms\n",
      "682:\tlearn: 0.3114327\ttotal: 1.81s\tremaining: 841ms\n",
      "683:\tlearn: 0.3113174\ttotal: 1.81s\tremaining: 838ms\n",
      "684:\tlearn: 0.3112359\ttotal: 1.82s\tremaining: 835ms\n",
      "685:\tlearn: 0.3111607\ttotal: 1.82s\tremaining: 832ms\n",
      "686:\tlearn: 0.3110449\ttotal: 1.82s\tremaining: 829ms\n",
      "687:\tlearn: 0.3109475\ttotal: 1.82s\tremaining: 827ms\n",
      "688:\tlearn: 0.3108347\ttotal: 1.82s\tremaining: 824ms\n",
      "689:\tlearn: 0.3106616\ttotal: 1.83s\tremaining: 821ms\n",
      "690:\tlearn: 0.3105272\ttotal: 1.83s\tremaining: 818ms\n",
      "691:\tlearn: 0.3104529\ttotal: 1.83s\tremaining: 815ms\n",
      "692:\tlearn: 0.3103560\ttotal: 1.83s\tremaining: 812ms\n",
      "693:\tlearn: 0.3102145\ttotal: 1.83s\tremaining: 809ms\n",
      "694:\tlearn: 0.3100334\ttotal: 1.84s\tremaining: 807ms\n",
      "695:\tlearn: 0.3099288\ttotal: 1.84s\tremaining: 804ms\n",
      "696:\tlearn: 0.3098920\ttotal: 1.84s\tremaining: 801ms\n",
      "697:\tlearn: 0.3097831\ttotal: 1.84s\tremaining: 798ms\n",
      "698:\tlearn: 0.3096571\ttotal: 1.85s\tremaining: 795ms\n",
      "699:\tlearn: 0.3095542\ttotal: 1.85s\tremaining: 792ms\n",
      "700:\tlearn: 0.3093995\ttotal: 1.85s\tremaining: 789ms\n",
      "701:\tlearn: 0.3093177\ttotal: 1.85s\tremaining: 786ms\n",
      "702:\tlearn: 0.3091928\ttotal: 1.85s\tremaining: 784ms\n",
      "703:\tlearn: 0.3091295\ttotal: 1.86s\tremaining: 781ms\n",
      "704:\tlearn: 0.3090478\ttotal: 1.86s\tremaining: 778ms\n",
      "705:\tlearn: 0.3089186\ttotal: 1.86s\tremaining: 775ms\n",
      "706:\tlearn: 0.3088242\ttotal: 1.86s\tremaining: 772ms\n",
      "707:\tlearn: 0.3087135\ttotal: 1.86s\tremaining: 769ms\n",
      "708:\tlearn: 0.3086142\ttotal: 1.87s\tremaining: 766ms\n",
      "709:\tlearn: 0.3085356\ttotal: 1.87s\tremaining: 764ms\n",
      "710:\tlearn: 0.3085018\ttotal: 1.87s\tremaining: 762ms\n",
      "711:\tlearn: 0.3084018\ttotal: 1.88s\tremaining: 759ms\n",
      "712:\tlearn: 0.3083146\ttotal: 1.88s\tremaining: 756ms\n",
      "713:\tlearn: 0.3082405\ttotal: 1.88s\tremaining: 753ms\n",
      "714:\tlearn: 0.3081558\ttotal: 1.88s\tremaining: 750ms\n",
      "715:\tlearn: 0.3081173\ttotal: 1.88s\tremaining: 747ms\n",
      "716:\tlearn: 0.3079626\ttotal: 1.89s\tremaining: 745ms\n",
      "717:\tlearn: 0.3079052\ttotal: 1.89s\tremaining: 742ms\n",
      "718:\tlearn: 0.3078247\ttotal: 1.89s\tremaining: 739ms\n",
      "719:\tlearn: 0.3077565\ttotal: 1.89s\tremaining: 736ms\n",
      "720:\tlearn: 0.3075979\ttotal: 1.9s\tremaining: 733ms\n",
      "721:\tlearn: 0.3074513\ttotal: 1.9s\tremaining: 731ms\n",
      "722:\tlearn: 0.3074035\ttotal: 1.9s\tremaining: 728ms\n",
      "723:\tlearn: 0.3072734\ttotal: 1.9s\tremaining: 725ms\n",
      "724:\tlearn: 0.3071712\ttotal: 1.9s\tremaining: 722ms\n",
      "725:\tlearn: 0.3070587\ttotal: 1.91s\tremaining: 719ms\n",
      "726:\tlearn: 0.3069650\ttotal: 1.91s\tremaining: 717ms\n",
      "727:\tlearn: 0.3068608\ttotal: 1.91s\tremaining: 714ms\n",
      "728:\tlearn: 0.3067252\ttotal: 1.91s\tremaining: 711ms\n",
      "729:\tlearn: 0.3065981\ttotal: 1.91s\tremaining: 708ms\n",
      "730:\tlearn: 0.3065163\ttotal: 1.92s\tremaining: 706ms\n",
      "731:\tlearn: 0.3064493\ttotal: 1.92s\tremaining: 703ms\n",
      "732:\tlearn: 0.3063551\ttotal: 1.92s\tremaining: 700ms\n",
      "733:\tlearn: 0.3062420\ttotal: 1.92s\tremaining: 698ms\n",
      "734:\tlearn: 0.3061072\ttotal: 1.93s\tremaining: 695ms\n",
      "735:\tlearn: 0.3060265\ttotal: 1.93s\tremaining: 693ms\n",
      "736:\tlearn: 0.3058676\ttotal: 1.94s\tremaining: 691ms\n",
      "737:\tlearn: 0.3057705\ttotal: 1.94s\tremaining: 688ms\n",
      "738:\tlearn: 0.3056316\ttotal: 1.94s\tremaining: 685ms\n",
      "739:\tlearn: 0.3055480\ttotal: 1.94s\tremaining: 682ms\n",
      "740:\tlearn: 0.3054273\ttotal: 1.94s\tremaining: 679ms\n",
      "741:\tlearn: 0.3053638\ttotal: 1.95s\tremaining: 677ms\n",
      "742:\tlearn: 0.3052255\ttotal: 1.95s\tremaining: 675ms\n",
      "743:\tlearn: 0.3051500\ttotal: 1.95s\tremaining: 672ms\n",
      "744:\tlearn: 0.3050614\ttotal: 1.95s\tremaining: 669ms\n",
      "745:\tlearn: 0.3049981\ttotal: 1.96s\tremaining: 666ms\n",
      "746:\tlearn: 0.3048905\ttotal: 1.96s\tremaining: 663ms\n",
      "747:\tlearn: 0.3047947\ttotal: 1.96s\tremaining: 660ms\n",
      "748:\tlearn: 0.3046754\ttotal: 1.96s\tremaining: 658ms\n",
      "749:\tlearn: 0.3045391\ttotal: 1.97s\tremaining: 656ms\n",
      "750:\tlearn: 0.3044293\ttotal: 1.97s\tremaining: 653ms\n",
      "751:\tlearn: 0.3043043\ttotal: 1.97s\tremaining: 650ms\n",
      "752:\tlearn: 0.3041121\ttotal: 1.97s\tremaining: 648ms\n",
      "753:\tlearn: 0.3039937\ttotal: 1.98s\tremaining: 645ms\n",
      "754:\tlearn: 0.3038734\ttotal: 1.98s\tremaining: 642ms\n",
      "755:\tlearn: 0.3038107\ttotal: 1.98s\tremaining: 639ms\n",
      "756:\tlearn: 0.3036076\ttotal: 1.98s\tremaining: 637ms\n",
      "757:\tlearn: 0.3035139\ttotal: 1.99s\tremaining: 634ms\n",
      "758:\tlearn: 0.3034744\ttotal: 1.99s\tremaining: 632ms\n",
      "759:\tlearn: 0.3034214\ttotal: 1.99s\tremaining: 629ms\n",
      "760:\tlearn: 0.3033356\ttotal: 1.99s\tremaining: 626ms\n",
      "761:\tlearn: 0.3031469\ttotal: 1.99s\tremaining: 623ms\n",
      "762:\tlearn: 0.3030156\ttotal: 2s\tremaining: 620ms\n",
      "763:\tlearn: 0.3029245\ttotal: 2s\tremaining: 618ms\n",
      "764:\tlearn: 0.3028082\ttotal: 2s\tremaining: 615ms\n",
      "765:\tlearn: 0.3027426\ttotal: 2s\tremaining: 612ms\n",
      "766:\tlearn: 0.3025806\ttotal: 2.01s\tremaining: 610ms\n",
      "767:\tlearn: 0.3025137\ttotal: 2.01s\tremaining: 607ms\n",
      "768:\tlearn: 0.3024643\ttotal: 2.01s\tremaining: 604ms\n",
      "769:\tlearn: 0.3023362\ttotal: 2.01s\tremaining: 602ms\n",
      "770:\tlearn: 0.3022156\ttotal: 2.02s\tremaining: 599ms\n",
      "771:\tlearn: 0.3021203\ttotal: 2.02s\tremaining: 596ms\n",
      "772:\tlearn: 0.3020272\ttotal: 2.02s\tremaining: 593ms\n",
      "773:\tlearn: 0.3019501\ttotal: 2.02s\tremaining: 591ms\n",
      "774:\tlearn: 0.3018922\ttotal: 2.02s\tremaining: 588ms\n",
      "775:\tlearn: 0.3017971\ttotal: 2.03s\tremaining: 585ms\n",
      "776:\tlearn: 0.3016865\ttotal: 2.03s\tremaining: 583ms\n",
      "777:\tlearn: 0.3015769\ttotal: 2.03s\tremaining: 580ms\n",
      "778:\tlearn: 0.3014487\ttotal: 2.03s\tremaining: 577ms\n",
      "779:\tlearn: 0.3013363\ttotal: 2.04s\tremaining: 574ms\n",
      "780:\tlearn: 0.3012471\ttotal: 2.04s\tremaining: 572ms\n",
      "781:\tlearn: 0.3011915\ttotal: 2.04s\tremaining: 569ms\n",
      "782:\tlearn: 0.3011469\ttotal: 2.04s\tremaining: 566ms\n",
      "783:\tlearn: 0.3010205\ttotal: 2.04s\tremaining: 563ms\n",
      "784:\tlearn: 0.3009314\ttotal: 2.05s\tremaining: 561ms\n",
      "785:\tlearn: 0.3008388\ttotal: 2.05s\tremaining: 558ms\n",
      "786:\tlearn: 0.3006941\ttotal: 2.05s\tremaining: 555ms\n",
      "787:\tlearn: 0.3005908\ttotal: 2.05s\tremaining: 553ms\n",
      "788:\tlearn: 0.3004665\ttotal: 2.06s\tremaining: 550ms\n",
      "789:\tlearn: 0.3003682\ttotal: 2.06s\tremaining: 547ms\n",
      "790:\tlearn: 0.3002855\ttotal: 2.06s\tremaining: 545ms\n",
      "791:\tlearn: 0.3001291\ttotal: 2.06s\tremaining: 542ms\n",
      "792:\tlearn: 0.3000350\ttotal: 2.07s\tremaining: 539ms\n",
      "793:\tlearn: 0.2999238\ttotal: 2.07s\tremaining: 537ms\n",
      "794:\tlearn: 0.2998048\ttotal: 2.07s\tremaining: 534ms\n",
      "795:\tlearn: 0.2996906\ttotal: 2.07s\tremaining: 531ms\n",
      "796:\tlearn: 0.2996052\ttotal: 2.08s\tremaining: 529ms\n",
      "797:\tlearn: 0.2995224\ttotal: 2.08s\tremaining: 526ms\n",
      "798:\tlearn: 0.2994817\ttotal: 2.08s\tremaining: 523ms\n",
      "799:\tlearn: 0.2993873\ttotal: 2.08s\tremaining: 521ms\n",
      "800:\tlearn: 0.2993070\ttotal: 2.08s\tremaining: 518ms\n",
      "801:\tlearn: 0.2991698\ttotal: 2.09s\tremaining: 515ms\n",
      "802:\tlearn: 0.2991104\ttotal: 2.09s\tremaining: 512ms\n",
      "803:\tlearn: 0.2989276\ttotal: 2.09s\tremaining: 510ms\n",
      "804:\tlearn: 0.2988708\ttotal: 2.09s\tremaining: 507ms\n",
      "805:\tlearn: 0.2987426\ttotal: 2.1s\tremaining: 505ms\n",
      "806:\tlearn: 0.2986197\ttotal: 2.1s\tremaining: 502ms\n",
      "807:\tlearn: 0.2984873\ttotal: 2.1s\tremaining: 499ms\n",
      "808:\tlearn: 0.2983722\ttotal: 2.1s\tremaining: 496ms\n",
      "809:\tlearn: 0.2982297\ttotal: 2.1s\tremaining: 494ms\n",
      "810:\tlearn: 0.2981105\ttotal: 2.11s\tremaining: 491ms\n",
      "811:\tlearn: 0.2980193\ttotal: 2.11s\tremaining: 489ms\n",
      "812:\tlearn: 0.2979207\ttotal: 2.11s\tremaining: 486ms\n",
      "813:\tlearn: 0.2978428\ttotal: 2.11s\tremaining: 483ms\n",
      "814:\tlearn: 0.2977734\ttotal: 2.12s\tremaining: 480ms\n",
      "815:\tlearn: 0.2976646\ttotal: 2.12s\tremaining: 478ms\n",
      "816:\tlearn: 0.2975402\ttotal: 2.12s\tremaining: 475ms\n",
      "817:\tlearn: 0.2974689\ttotal: 2.12s\tremaining: 472ms\n",
      "818:\tlearn: 0.2973899\ttotal: 2.12s\tremaining: 470ms\n",
      "819:\tlearn: 0.2972899\ttotal: 2.13s\tremaining: 467ms\n",
      "820:\tlearn: 0.2971819\ttotal: 2.13s\tremaining: 464ms\n",
      "821:\tlearn: 0.2970245\ttotal: 2.13s\tremaining: 462ms\n",
      "822:\tlearn: 0.2969729\ttotal: 2.13s\tremaining: 459ms\n",
      "823:\tlearn: 0.2969131\ttotal: 2.13s\tremaining: 456ms\n",
      "824:\tlearn: 0.2968531\ttotal: 2.14s\tremaining: 454ms\n",
      "825:\tlearn: 0.2967647\ttotal: 2.14s\tremaining: 451ms\n",
      "826:\tlearn: 0.2966778\ttotal: 2.14s\tremaining: 448ms\n",
      "827:\tlearn: 0.2965498\ttotal: 2.15s\tremaining: 446ms\n",
      "828:\tlearn: 0.2964362\ttotal: 2.15s\tremaining: 443ms\n",
      "829:\tlearn: 0.2963346\ttotal: 2.15s\tremaining: 440ms\n",
      "830:\tlearn: 0.2961293\ttotal: 2.15s\tremaining: 438ms\n",
      "831:\tlearn: 0.2959688\ttotal: 2.15s\tremaining: 435ms\n",
      "832:\tlearn: 0.2959037\ttotal: 2.16s\tremaining: 433ms\n",
      "833:\tlearn: 0.2958114\ttotal: 2.16s\tremaining: 430ms\n",
      "834:\tlearn: 0.2957551\ttotal: 2.16s\tremaining: 427ms\n",
      "835:\tlearn: 0.2956255\ttotal: 2.16s\tremaining: 425ms\n",
      "836:\tlearn: 0.2955683\ttotal: 2.17s\tremaining: 422ms\n",
      "837:\tlearn: 0.2955074\ttotal: 2.17s\tremaining: 420ms\n",
      "838:\tlearn: 0.2954214\ttotal: 2.17s\tremaining: 417ms\n",
      "839:\tlearn: 0.2953149\ttotal: 2.17s\tremaining: 414ms\n",
      "840:\tlearn: 0.2952132\ttotal: 2.18s\tremaining: 411ms\n",
      "841:\tlearn: 0.2951331\ttotal: 2.18s\tremaining: 409ms\n",
      "842:\tlearn: 0.2950631\ttotal: 2.18s\tremaining: 406ms\n",
      "843:\tlearn: 0.2949844\ttotal: 2.18s\tremaining: 403ms\n",
      "844:\tlearn: 0.2949015\ttotal: 2.19s\tremaining: 401ms\n",
      "845:\tlearn: 0.2947365\ttotal: 2.19s\tremaining: 398ms\n",
      "846:\tlearn: 0.2946439\ttotal: 2.19s\tremaining: 396ms\n",
      "847:\tlearn: 0.2944940\ttotal: 2.19s\tremaining: 393ms\n",
      "848:\tlearn: 0.2944164\ttotal: 2.19s\tremaining: 390ms\n",
      "849:\tlearn: 0.2943342\ttotal: 2.2s\tremaining: 388ms\n",
      "850:\tlearn: 0.2942648\ttotal: 2.2s\tremaining: 385ms\n",
      "851:\tlearn: 0.2941842\ttotal: 2.2s\tremaining: 383ms\n",
      "852:\tlearn: 0.2940766\ttotal: 2.21s\tremaining: 380ms\n",
      "853:\tlearn: 0.2940006\ttotal: 2.21s\tremaining: 377ms\n",
      "854:\tlearn: 0.2939300\ttotal: 2.21s\tremaining: 375ms\n",
      "855:\tlearn: 0.2938419\ttotal: 2.21s\tremaining: 372ms\n",
      "856:\tlearn: 0.2936571\ttotal: 2.21s\tremaining: 370ms\n",
      "857:\tlearn: 0.2935920\ttotal: 2.22s\tremaining: 367ms\n",
      "858:\tlearn: 0.2934700\ttotal: 2.22s\tremaining: 365ms\n",
      "859:\tlearn: 0.2934208\ttotal: 2.22s\tremaining: 362ms\n",
      "860:\tlearn: 0.2933365\ttotal: 2.23s\tremaining: 359ms\n",
      "861:\tlearn: 0.2932810\ttotal: 2.23s\tremaining: 357ms\n",
      "862:\tlearn: 0.2932484\ttotal: 2.23s\tremaining: 355ms\n",
      "863:\tlearn: 0.2931989\ttotal: 2.24s\tremaining: 352ms\n",
      "864:\tlearn: 0.2931576\ttotal: 2.24s\tremaining: 349ms\n",
      "865:\tlearn: 0.2931103\ttotal: 2.24s\tremaining: 347ms\n",
      "866:\tlearn: 0.2930370\ttotal: 2.24s\tremaining: 344ms\n",
      "867:\tlearn: 0.2929495\ttotal: 2.25s\tremaining: 342ms\n",
      "868:\tlearn: 0.2928288\ttotal: 2.25s\tremaining: 340ms\n",
      "869:\tlearn: 0.2927845\ttotal: 2.25s\tremaining: 337ms\n",
      "870:\tlearn: 0.2927006\ttotal: 2.26s\tremaining: 334ms\n",
      "871:\tlearn: 0.2925897\ttotal: 2.26s\tremaining: 332ms\n",
      "872:\tlearn: 0.2924657\ttotal: 2.26s\tremaining: 329ms\n",
      "873:\tlearn: 0.2923785\ttotal: 2.27s\tremaining: 327ms\n",
      "874:\tlearn: 0.2922604\ttotal: 2.27s\tremaining: 324ms\n",
      "875:\tlearn: 0.2921374\ttotal: 2.27s\tremaining: 322ms\n",
      "876:\tlearn: 0.2920916\ttotal: 2.27s\tremaining: 319ms\n",
      "877:\tlearn: 0.2920213\ttotal: 2.28s\tremaining: 316ms\n",
      "878:\tlearn: 0.2919134\ttotal: 2.28s\tremaining: 314ms\n",
      "879:\tlearn: 0.2918207\ttotal: 2.28s\tremaining: 311ms\n",
      "880:\tlearn: 0.2917029\ttotal: 2.29s\tremaining: 309ms\n",
      "881:\tlearn: 0.2916580\ttotal: 2.29s\tremaining: 306ms\n",
      "882:\tlearn: 0.2915622\ttotal: 2.29s\tremaining: 304ms\n",
      "883:\tlearn: 0.2914779\ttotal: 2.29s\tremaining: 301ms\n",
      "884:\tlearn: 0.2914049\ttotal: 2.3s\tremaining: 298ms\n",
      "885:\tlearn: 0.2913356\ttotal: 2.3s\tremaining: 296ms\n",
      "886:\tlearn: 0.2912533\ttotal: 2.3s\tremaining: 293ms\n",
      "887:\tlearn: 0.2911730\ttotal: 2.31s\tremaining: 291ms\n",
      "888:\tlearn: 0.2910857\ttotal: 2.31s\tremaining: 288ms\n",
      "889:\tlearn: 0.2908874\ttotal: 2.31s\tremaining: 285ms\n",
      "890:\tlearn: 0.2907411\ttotal: 2.31s\tremaining: 283ms\n",
      "891:\tlearn: 0.2906648\ttotal: 2.32s\tremaining: 281ms\n",
      "892:\tlearn: 0.2906402\ttotal: 2.32s\tremaining: 278ms\n",
      "893:\tlearn: 0.2905251\ttotal: 2.32s\tremaining: 275ms\n",
      "894:\tlearn: 0.2904670\ttotal: 2.32s\tremaining: 273ms\n",
      "895:\tlearn: 0.2903960\ttotal: 2.33s\tremaining: 270ms\n",
      "896:\tlearn: 0.2903100\ttotal: 2.33s\tremaining: 267ms\n",
      "897:\tlearn: 0.2902623\ttotal: 2.33s\tremaining: 265ms\n",
      "898:\tlearn: 0.2902101\ttotal: 2.33s\tremaining: 262ms\n",
      "899:\tlearn: 0.2901318\ttotal: 2.33s\tremaining: 260ms\n",
      "900:\tlearn: 0.2900787\ttotal: 2.34s\tremaining: 257ms\n",
      "901:\tlearn: 0.2899742\ttotal: 2.34s\tremaining: 254ms\n",
      "902:\tlearn: 0.2898827\ttotal: 2.34s\tremaining: 252ms\n",
      "903:\tlearn: 0.2898030\ttotal: 2.34s\tremaining: 249ms\n",
      "904:\tlearn: 0.2896836\ttotal: 2.35s\tremaining: 246ms\n",
      "905:\tlearn: 0.2896179\ttotal: 2.35s\tremaining: 244ms\n",
      "906:\tlearn: 0.2895085\ttotal: 2.35s\tremaining: 241ms\n",
      "907:\tlearn: 0.2894338\ttotal: 2.35s\tremaining: 238ms\n",
      "908:\tlearn: 0.2893284\ttotal: 2.35s\tremaining: 236ms\n",
      "909:\tlearn: 0.2892892\ttotal: 2.36s\tremaining: 233ms\n",
      "910:\tlearn: 0.2891956\ttotal: 2.36s\tremaining: 230ms\n",
      "911:\tlearn: 0.2891055\ttotal: 2.36s\tremaining: 228ms\n",
      "912:\tlearn: 0.2889870\ttotal: 2.36s\tremaining: 225ms\n",
      "913:\tlearn: 0.2889345\ttotal: 2.37s\tremaining: 223ms\n",
      "914:\tlearn: 0.2888887\ttotal: 2.37s\tremaining: 220ms\n",
      "915:\tlearn: 0.2888434\ttotal: 2.37s\tremaining: 218ms\n",
      "916:\tlearn: 0.2886567\ttotal: 2.38s\tremaining: 215ms\n",
      "917:\tlearn: 0.2885432\ttotal: 2.38s\tremaining: 212ms\n",
      "918:\tlearn: 0.2884689\ttotal: 2.38s\tremaining: 210ms\n",
      "919:\tlearn: 0.2883693\ttotal: 2.38s\tremaining: 207ms\n",
      "920:\tlearn: 0.2883256\ttotal: 2.38s\tremaining: 205ms\n",
      "921:\tlearn: 0.2882341\ttotal: 2.39s\tremaining: 202ms\n",
      "922:\tlearn: 0.2881928\ttotal: 2.39s\tremaining: 199ms\n",
      "923:\tlearn: 0.2880903\ttotal: 2.39s\tremaining: 197ms\n",
      "924:\tlearn: 0.2879369\ttotal: 2.39s\tremaining: 194ms\n",
      "925:\tlearn: 0.2877871\ttotal: 2.4s\tremaining: 192ms\n",
      "926:\tlearn: 0.2877186\ttotal: 2.4s\tremaining: 189ms\n",
      "927:\tlearn: 0.2876575\ttotal: 2.4s\tremaining: 186ms\n",
      "928:\tlearn: 0.2876104\ttotal: 2.4s\tremaining: 184ms\n",
      "929:\tlearn: 0.2874958\ttotal: 2.4s\tremaining: 181ms\n",
      "930:\tlearn: 0.2874566\ttotal: 2.41s\tremaining: 178ms\n",
      "931:\tlearn: 0.2873230\ttotal: 2.41s\tremaining: 176ms\n",
      "932:\tlearn: 0.2873004\ttotal: 2.41s\tremaining: 173ms\n",
      "933:\tlearn: 0.2872734\ttotal: 2.41s\tremaining: 171ms\n",
      "934:\tlearn: 0.2872035\ttotal: 2.42s\tremaining: 168ms\n",
      "935:\tlearn: 0.2871358\ttotal: 2.42s\tremaining: 165ms\n",
      "936:\tlearn: 0.2870598\ttotal: 2.42s\tremaining: 163ms\n",
      "937:\tlearn: 0.2869914\ttotal: 2.42s\tremaining: 160ms\n",
      "938:\tlearn: 0.2868881\ttotal: 2.42s\tremaining: 158ms\n",
      "939:\tlearn: 0.2868504\ttotal: 2.43s\tremaining: 155ms\n",
      "940:\tlearn: 0.2867348\ttotal: 2.43s\tremaining: 152ms\n",
      "941:\tlearn: 0.2866930\ttotal: 2.43s\tremaining: 150ms\n",
      "942:\tlearn: 0.2866048\ttotal: 2.43s\tremaining: 147ms\n",
      "943:\tlearn: 0.2864717\ttotal: 2.44s\tremaining: 145ms\n",
      "944:\tlearn: 0.2863598\ttotal: 2.44s\tremaining: 142ms\n",
      "945:\tlearn: 0.2862989\ttotal: 2.44s\tremaining: 139ms\n",
      "946:\tlearn: 0.2862576\ttotal: 2.44s\tremaining: 137ms\n",
      "947:\tlearn: 0.2861500\ttotal: 2.45s\tremaining: 134ms\n",
      "948:\tlearn: 0.2860432\ttotal: 2.45s\tremaining: 132ms\n",
      "949:\tlearn: 0.2859782\ttotal: 2.45s\tremaining: 129ms\n",
      "950:\tlearn: 0.2859098\ttotal: 2.45s\tremaining: 126ms\n",
      "951:\tlearn: 0.2858282\ttotal: 2.46s\tremaining: 124ms\n",
      "952:\tlearn: 0.2857159\ttotal: 2.46s\tremaining: 121ms\n",
      "953:\tlearn: 0.2856685\ttotal: 2.46s\tremaining: 119ms\n",
      "954:\tlearn: 0.2855878\ttotal: 2.46s\tremaining: 116ms\n",
      "955:\tlearn: 0.2855341\ttotal: 2.47s\tremaining: 114ms\n",
      "956:\tlearn: 0.2854804\ttotal: 2.47s\tremaining: 111ms\n",
      "957:\tlearn: 0.2854104\ttotal: 2.48s\tremaining: 109ms\n",
      "958:\tlearn: 0.2853063\ttotal: 2.48s\tremaining: 106ms\n",
      "959:\tlearn: 0.2852308\ttotal: 2.48s\tremaining: 103ms\n",
      "960:\tlearn: 0.2851288\ttotal: 2.48s\tremaining: 101ms\n",
      "961:\tlearn: 0.2850022\ttotal: 2.49s\tremaining: 98.2ms\n",
      "962:\tlearn: 0.2849296\ttotal: 2.49s\tremaining: 95.6ms\n",
      "963:\tlearn: 0.2848836\ttotal: 2.49s\tremaining: 93.1ms\n",
      "964:\tlearn: 0.2848407\ttotal: 2.49s\tremaining: 90.5ms\n",
      "965:\tlearn: 0.2847819\ttotal: 2.5s\tremaining: 87.9ms\n",
      "966:\tlearn: 0.2847277\ttotal: 2.5s\tremaining: 85.3ms\n",
      "967:\tlearn: 0.2846608\ttotal: 2.5s\tremaining: 82.7ms\n",
      "968:\tlearn: 0.2845819\ttotal: 2.5s\tremaining: 80.2ms\n",
      "969:\tlearn: 0.2845166\ttotal: 2.51s\tremaining: 77.7ms\n",
      "970:\tlearn: 0.2844174\ttotal: 2.52s\tremaining: 75.2ms\n",
      "971:\tlearn: 0.2843109\ttotal: 2.52s\tremaining: 72.6ms\n",
      "972:\tlearn: 0.2842266\ttotal: 2.52s\tremaining: 70ms\n",
      "973:\tlearn: 0.2841357\ttotal: 2.52s\tremaining: 67.4ms\n",
      "974:\tlearn: 0.2840445\ttotal: 2.53s\tremaining: 64.8ms\n",
      "975:\tlearn: 0.2839164\ttotal: 2.53s\tremaining: 62.2ms\n",
      "976:\tlearn: 0.2837786\ttotal: 2.53s\tremaining: 59.6ms\n",
      "977:\tlearn: 0.2837077\ttotal: 2.54s\tremaining: 57ms\n",
      "978:\tlearn: 0.2836477\ttotal: 2.54s\tremaining: 54.4ms\n",
      "979:\tlearn: 0.2836005\ttotal: 2.54s\tremaining: 51.8ms\n",
      "980:\tlearn: 0.2835287\ttotal: 2.54s\tremaining: 49.3ms\n",
      "981:\tlearn: 0.2834683\ttotal: 2.55s\tremaining: 46.7ms\n",
      "982:\tlearn: 0.2834251\ttotal: 2.55s\tremaining: 44.1ms\n",
      "983:\tlearn: 0.2833244\ttotal: 2.56s\tremaining: 41.6ms\n",
      "984:\tlearn: 0.2832487\ttotal: 2.56s\tremaining: 39ms\n",
      "985:\tlearn: 0.2831912\ttotal: 2.57s\tremaining: 36.5ms\n",
      "986:\tlearn: 0.2830848\ttotal: 2.57s\tremaining: 33.9ms\n",
      "987:\tlearn: 0.2830126\ttotal: 2.57s\tremaining: 31.2ms\n",
      "988:\tlearn: 0.2829193\ttotal: 2.57s\tremaining: 28.6ms\n",
      "989:\tlearn: 0.2828352\ttotal: 2.58s\tremaining: 26ms\n",
      "990:\tlearn: 0.2827306\ttotal: 2.58s\tremaining: 23.4ms\n",
      "991:\tlearn: 0.2826517\ttotal: 2.58s\tremaining: 20.8ms\n",
      "992:\tlearn: 0.2825533\ttotal: 2.58s\tremaining: 18.2ms\n",
      "993:\tlearn: 0.2824808\ttotal: 2.59s\tremaining: 15.6ms\n",
      "994:\tlearn: 0.2823887\ttotal: 2.59s\tremaining: 13ms\n",
      "995:\tlearn: 0.2822945\ttotal: 2.59s\tremaining: 10.4ms\n",
      "996:\tlearn: 0.2821817\ttotal: 2.59s\tremaining: 7.8ms\n",
      "997:\tlearn: 0.2821044\ttotal: 2.59s\tremaining: 5.2ms\n",
      "998:\tlearn: 0.2820653\ttotal: 2.6s\tremaining: 2.6ms\n",
      "999:\tlearn: 0.2819401\ttotal: 2.6s\tremaining: 0us\n"
     ]
    }
   ],
   "source": [
    "from sklearn.ensemble import RandomForestClassifier\n",
    "from sklearn.tree import DecisionTreeClassifier\n",
    "from catboost import CatBoostClassifier\n",
    "from xgboost import XGBClassifier\n",
    "from sklearn.model_selection import GridSearchCV\n",
    "\n",
    "models = {\n",
    "    \"RF\" : RandomForestClassifier(),\n",
    "    \"DT\" : DecisionTreeClassifier(),\n",
    "    \"CAT\" : CatBoostClassifier(),\n",
    "    \"XGB\" : XGBClassifier()\n",
    "\n",
    "}\n",
    "model_train_scores = []\n",
    "model_valid_scores = []\n",
    "model_names = []\n",
    "\n",
    "for name , model in models.items() :\n",
    "    model_names.append(name)\n",
    "    model.fit(X_train,y_train)\n",
    "    model_train_scores.append(model.score(X_train,y_train))\n",
    "    model_valid_scores.append(model.score(X_valid,y_valid))\n",
    "\n"
   ]
  },
  {
   "cell_type": "code",
   "execution_count": 68,
   "metadata": {},
   "outputs": [
    {
     "name": "stdout",
     "output_type": "stream",
     "text": [
      "['RF', 'DT', 'CAT', 'XGB']\n",
      "[0.9718640093786636, 0.9718640093786636, 0.8779308323563892, 0.9251172332942555]\n",
      "[0.7855887521968365, 0.7457527826596367, 0.7978910369068541, 0.7967193907439953]\n"
     ]
    }
   ],
   "source": [
    "print(model_names)\n",
    "print(model_train_scores)\n",
    "print(model_valid_scores)"
   ]
  },
  {
   "cell_type": "code",
   "execution_count": 69,
   "metadata": {},
   "outputs": [],
   "source": [
    "#Dealing with Catboost\n",
    "\n",
    "# param_grid = {\n",
    "#     \"iterations\": [500,1000,1500],\n",
    "#     \"learning_rate\" : [0.01,0.009,0.03,0.1],\n",
    "#     \"eval_metric\" : ['Accuracy'],\n",
    "#      \"depth\" : [4,6,8,10]\n",
    "    \n",
    "# }\n",
    "\n",
    "# grid = GridSearchCV(CatBoostClassifier() , param_grid=param_grid , n_jobs=4 , scoring='accuracy' , verbose = 0)\n",
    "\n",
    "# grid.fit(X_train,y_train)"
   ]
  },
  {
   "cell_type": "code",
   "execution_count": 70,
   "metadata": {},
   "outputs": [],
   "source": [
    "# from sklearn.metrics import accuracy_score\n",
    "# print(grid.best_score_)\n",
    "# print(\"The valid accuracy {}\".format(accuracy_score(y_valid , grid.predict(X_valid)) ))\n",
    "# print(grid.best_params_)\n",
    "# best_params = grid.best_params_"
   ]
  },
  {
   "cell_type": "code",
   "execution_count": 71,
   "metadata": {},
   "outputs": [],
   "source": [
    "# from sklearn.metrics import confusion_matrix\n",
    "\n",
    "# confusion_matrix(y_train,grid.predict(X_train))"
   ]
  },
  {
   "cell_type": "code",
   "execution_count": 72,
   "metadata": {},
   "outputs": [],
   "source": [
    "\n",
    "# cat = CatBoostClassifier(**best_params,random_state=69,verbose=0,l2_leaf_reg=7.0).fit(X_train,y_train)\n",
    "# print(\"Training score : {}\".format(cat.score(X_train,y_train)))\n",
    "# print(\"Test accuracy : {}\".format(cat.score(X_valid,y_valid)))\n",
    "# string = str(cat.score(X_train,y_train)) + (str(cat.score(X_valid,y_valid)))\n",
    "# file = open(\"file.txt\",\"w+\")\n",
    "# file.write(string)\n",
    "# file.close()"
   ]
  },
  {
   "cell_type": "code",
   "execution_count": 115,
   "metadata": {},
   "outputs": [],
   "source": [
    "#trying on Xgboost \n",
    "param_grid = {\n",
    "    \"n_estimators\": [100,150,200],\n",
    "    \"max_depth\": [4,6,8],\n",
    "    \"learning_rate\": [0.1,0.15,0.175],\n",
    "    \n",
    "\n",
    "}\n",
    "grid = GridSearchCV(XGBClassifier(),param_grid=param_grid,n_jobs=4).fit(X_train,y_train)"
   ]
  },
  {
   "cell_type": "code",
   "execution_count": 119,
   "metadata": {},
   "outputs": [
    {
     "name": "stdout",
     "output_type": "stream",
     "text": [
      "0.8163826496084561\n",
      "{'learning_rate': 0.15, 'max_depth': 4, 'n_estimators': 150}\n"
     ]
    }
   ],
   "source": [
    "print(grid.best_score_)\n",
    "print(grid.best_params_)"
   ]
  },
  {
   "cell_type": "code",
   "execution_count": 159,
   "metadata": {},
   "outputs": [
    {
     "name": "stdout",
     "output_type": "stream",
     "text": [
      "The training score is 0.8656213364595545\n",
      "The test score is 0.8025776215582894\n"
     ]
    }
   ],
   "source": [
    "\n",
    "xg = XGBClassifier(**grid.best_params_,reg_lambda = 0.03 ,).fit(X_train,y_train)\n",
    "print(\"The training score is {}\".format(xg.score(X_train,y_train)))\n",
    "print(\"The test score is {}\".format(xg.score(X_valid,y_valid)))"
   ]
  },
  {
   "cell_type": "code",
   "execution_count": null,
   "metadata": {},
   "outputs": [],
   "source": []
  }
 ],
 "metadata": {
  "kernelspec": {
   "display_name": "env",
   "language": "python",
   "name": "python3"
  },
  "language_info": {
   "codemirror_mode": {
    "name": "ipython",
    "version": 3
   },
   "file_extension": ".py",
   "mimetype": "text/x-python",
   "name": "python",
   "nbconvert_exporter": "python",
   "pygments_lexer": "ipython3",
   "version": "3.10.6"
  },
  "orig_nbformat": 4
 },
 "nbformat": 4,
 "nbformat_minor": 2
}
