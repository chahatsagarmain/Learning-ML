{
  "nbformat": 4,
  "nbformat_minor": 0,
  "metadata": {
    "colab": {
      "provenance": [],
      "gpuType": "T4"
    },
    "kernelspec": {
      "name": "python3",
      "display_name": "Python 3"
    },
    "language_info": {
      "name": "python"
    },
    "accelerator": "GPU"
  },
  "cells": [
    {
      "cell_type": "code",
      "execution_count": 63,
      "metadata": {
        "id": "murpzhxz9HTU"
      },
      "outputs": [],
      "source": [
        "import tensorflow as tf\n",
        "import tensorflow.keras as keras\n",
        "from keras.models import Sequential\n",
        "from keras.layers import Dense , Flatten , BatchNormalization"
      ]
    },
    {
      "cell_type": "code",
      "source": [
        "(X_train, y_train), (X_test, y_test) = keras.datasets.mnist.load_data()"
      ],
      "metadata": {
        "id": "PrUscjgz-Aea"
      },
      "execution_count": 64,
      "outputs": []
    },
    {
      "cell_type": "code",
      "source": [
        "print(X_train.shape)\n",
        "print(X_test.shape)"
      ],
      "metadata": {
        "colab": {
          "base_uri": "https://localhost:8080/"
        },
        "id": "m0WzzaGk-f59",
        "outputId": "d121ede3-b9a5-4dfe-bb22-d03bc3ed7b90"
      },
      "execution_count": 65,
      "outputs": [
        {
          "output_type": "stream",
          "name": "stdout",
          "text": [
            "(60000, 28, 28)\n",
            "(10000, 28, 28)\n"
          ]
        }
      ]
    },
    {
      "cell_type": "code",
      "source": [
        "X_train = X_train/255\n",
        "X_test = X_test/255"
      ],
      "metadata": {
        "id": "Pk5GxBGb-pB-"
      },
      "execution_count": 66,
      "outputs": []
    },
    {
      "cell_type": "code",
      "source": [
        "model = Sequential()\n",
        "\n",
        "model.add(Flatten(input_shape = (28,28)))\n",
        "model.add(Dense(128 , activation = 'relu'))\n",
        "model.add(Dense(64 , activation = \"relu\"))\n",
        "\n",
        "model.add(Dense(10 , activation = \"softmax\"))"
      ],
      "metadata": {
        "id": "ESQ-SAlj_-0x"
      },
      "execution_count": 67,
      "outputs": []
    },
    {
      "cell_type": "code",
      "source": [
        "model.summary()"
      ],
      "metadata": {
        "colab": {
          "base_uri": "https://localhost:8080/"
        },
        "id": "yU8KGAZRA7kB",
        "outputId": "d421d0d3-c2ed-4390-8809-095d6f066ce1"
      },
      "execution_count": 68,
      "outputs": [
        {
          "output_type": "stream",
          "name": "stdout",
          "text": [
            "Model: \"sequential_9\"\n",
            "_________________________________________________________________\n",
            " Layer (type)                Output Shape              Param #   \n",
            "=================================================================\n",
            " flatten_9 (Flatten)         (None, 784)               0         \n",
            "                                                                 \n",
            " dense_22 (Dense)            (None, 128)               100480    \n",
            "                                                                 \n",
            " dense_23 (Dense)            (None, 64)                8256      \n",
            "                                                                 \n",
            " dense_24 (Dense)            (None, 10)                650       \n",
            "                                                                 \n",
            "=================================================================\n",
            "Total params: 109,386\n",
            "Trainable params: 109,386\n",
            "Non-trainable params: 0\n",
            "_________________________________________________________________\n"
          ]
        }
      ]
    },
    {
      "cell_type": "code",
      "source": [
        "model.compile(loss = tf.keras.losses.SparseCategoricalCrossentropy() , optimizer = \"adam\" , metrics = ['accuracy'])"
      ],
      "metadata": {
        "id": "SaQcZ9vlBXn8"
      },
      "execution_count": 69,
      "outputs": []
    },
    {
      "cell_type": "code",
      "source": [
        "history = model.fit(X_train , y_train , epochs = 15 ,validation_split = 0.2)"
      ],
      "metadata": {
        "colab": {
          "base_uri": "https://localhost:8080/"
        },
        "id": "kn6cjYJWBwEn",
        "outputId": "64a6e36c-1ad5-43d4-923e-87b211d4d0e5"
      },
      "execution_count": 70,
      "outputs": [
        {
          "output_type": "stream",
          "name": "stdout",
          "text": [
            "Epoch 1/15\n",
            "1500/1500 [==============================] - 15s 9ms/step - loss: 0.2682 - accuracy: 0.9222 - val_loss: 0.1388 - val_accuracy: 0.9580\n",
            "Epoch 2/15\n",
            "1500/1500 [==============================] - 7s 5ms/step - loss: 0.1121 - accuracy: 0.9658 - val_loss: 0.1104 - val_accuracy: 0.9654\n",
            "Epoch 3/15\n",
            "1500/1500 [==============================] - 8s 5ms/step - loss: 0.0764 - accuracy: 0.9764 - val_loss: 0.1050 - val_accuracy: 0.9679\n",
            "Epoch 4/15\n",
            "1500/1500 [==============================] - 7s 5ms/step - loss: 0.0570 - accuracy: 0.9823 - val_loss: 0.0968 - val_accuracy: 0.9728\n",
            "Epoch 5/15\n",
            "1500/1500 [==============================] - 8s 5ms/step - loss: 0.0465 - accuracy: 0.9853 - val_loss: 0.1087 - val_accuracy: 0.9679\n",
            "Epoch 6/15\n",
            "1500/1500 [==============================] - 8s 5ms/step - loss: 0.0360 - accuracy: 0.9885 - val_loss: 0.0968 - val_accuracy: 0.9749\n",
            "Epoch 7/15\n",
            "1500/1500 [==============================] - 7s 5ms/step - loss: 0.0290 - accuracy: 0.9903 - val_loss: 0.0989 - val_accuracy: 0.9737\n",
            "Epoch 8/15\n",
            "1500/1500 [==============================] - 8s 5ms/step - loss: 0.0249 - accuracy: 0.9920 - val_loss: 0.1011 - val_accuracy: 0.9754\n",
            "Epoch 9/15\n",
            "1500/1500 [==============================] - 7s 5ms/step - loss: 0.0224 - accuracy: 0.9924 - val_loss: 0.1010 - val_accuracy: 0.9747\n",
            "Epoch 10/15\n",
            "1500/1500 [==============================] - 8s 6ms/step - loss: 0.0172 - accuracy: 0.9942 - val_loss: 0.0994 - val_accuracy: 0.9773\n",
            "Epoch 11/15\n",
            "1500/1500 [==============================] - 8s 6ms/step - loss: 0.0178 - accuracy: 0.9939 - val_loss: 0.1097 - val_accuracy: 0.9761\n",
            "Epoch 12/15\n",
            "1500/1500 [==============================] - 7s 5ms/step - loss: 0.0168 - accuracy: 0.9940 - val_loss: 0.1276 - val_accuracy: 0.9741\n",
            "Epoch 13/15\n",
            "1500/1500 [==============================] - 9s 6ms/step - loss: 0.0137 - accuracy: 0.9953 - val_loss: 0.1134 - val_accuracy: 0.9778\n",
            "Epoch 14/15\n",
            "1500/1500 [==============================] - 7s 4ms/step - loss: 0.0137 - accuracy: 0.9955 - val_loss: 0.1277 - val_accuracy: 0.9731\n",
            "Epoch 15/15\n",
            "1500/1500 [==============================] - 8s 5ms/step - loss: 0.0114 - accuracy: 0.9961 - val_loss: 0.1214 - val_accuracy: 0.9773\n"
          ]
        }
      ]
    },
    {
      "cell_type": "code",
      "source": [
        "model.evaluate(X_test , y_test)"
      ],
      "metadata": {
        "colab": {
          "base_uri": "https://localhost:8080/"
        },
        "id": "iPSzONwEC9CR",
        "outputId": "728d0595-31bc-46da-b728-974992a7c3cb"
      },
      "execution_count": 72,
      "outputs": [
        {
          "output_type": "stream",
          "name": "stdout",
          "text": [
            "313/313 [==============================] - 1s 2ms/step - loss: 0.1175 - accuracy: 0.9792\n"
          ]
        },
        {
          "output_type": "execute_result",
          "data": {
            "text/plain": [
              "[0.11754319816827774, 0.979200005531311]"
            ]
          },
          "metadata": {},
          "execution_count": 72
        }
      ]
    },
    {
      "cell_type": "code",
      "source": [
        "import matplotlib.pyplot as plt\n",
        "plt.plot(history.history['accuracy'],'ro',label = \"Train\")\n",
        "plt.plot(history.history['val_accuracy'],'bo', label = 'Test')\n",
        "plt.xlabel(\"Epochs\")\n",
        "plt.ylabel(\"Accuracy\")\n",
        "plt.legend()\n",
        "plt.show()"
      ],
      "metadata": {
        "colab": {
          "base_uri": "https://localhost:8080/",
          "height": 449
        },
        "id": "5YuNxGSwFzeh",
        "outputId": "a87cc2b4-285b-4982-86d5-e50029041ee0"
      },
      "execution_count": 73,
      "outputs": [
        {
          "output_type": "display_data",
          "data": {
            "text/plain": [
              "<Figure size 640x480 with 1 Axes>"
            ],
            "image/png": "[encoded data removed]"
          },
          "metadata": {}
        }
      ]
    },
    {
      "cell_type": "code",
      "source": [
        "plt.imshow(X_test[5])\n",
        "print(X_test[5].shape)"
      ],
      "metadata": {
        "colab": {
          "base_uri": "https://localhost:8080/",
          "height": 447
        },
        "id": "I1nNsCSLGXWE",
        "outputId": "ed3a248b-6125-4865-c74a-f2543fc1fc27"
      },
      "execution_count": 76,
      "outputs": [
        {
          "output_type": "stream",
          "name": "stdout",
          "text": [
            "(28, 28)\n"
          ]
        },
        {
          "output_type": "display_data",
          "data": {
            "text/plain": [
              "<Figure size 640x480 with 1 Axes>"
            ],
            "image/png": "[encoded data removed]"
          },
          "metadata": {}
        }
      ]
    },
    {
      "cell_type": "code",
      "source": [
        "prediction = model.predict(X_test[5].reshape(1,28,28))\n",
        "print(prediction.argmax(axis = 1))"
      ],
      "metadata": {
        "colab": {
          "base_uri": "https://localhost:8080/"
        },
        "id": "o_Ur6GB0GsyG",
        "outputId": "877a3a98-62ea-43cd-ce7a-cb5219d47095"
      },
      "execution_count": 81,
      "outputs": [
        {
          "output_type": "stream",
          "name": "stdout",
          "text": [
            "1/1 [==============================] - 0s 24ms/step\n",
            "[1]\n"
          ]
        }
      ]
    }
  ]
}